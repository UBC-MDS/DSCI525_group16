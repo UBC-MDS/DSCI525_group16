{
 "cells": [
  {
   "cell_type": "code",
   "execution_count": 1,
   "metadata": {},
   "outputs": [],
   "source": [
    "import re\n",
    "import os\n",
    "import glob\n",
    "import zipfile\n",
    "import requests\n",
    "from urllib.request import urlretrieve\n",
    "import json\n",
    "import pandas as pd\n",
    "import numpy as np"
   ]
  },
  {
   "attachments": {},
   "cell_type": "markdown",
   "metadata": {},
   "source": [
    "# 3. Download Data"
   ]
  },
  {
   "attachments": {},
   "cell_type": "markdown",
   "metadata": {},
   "source": [
    "### 3.1 Download with figshare API"
   ]
  },
  {
   "cell_type": "code",
   "execution_count": 2,
   "metadata": {},
   "outputs": [],
   "source": [
    "# Use API to download data\n",
    "article_id = \"14096681\"\n",
    "url = f\"https://api.figshare.com/v2/articles/{article_id}\"\n",
    "headers = {\"Content-Type\": \"application/json\"}\n",
    "output_directory = \"NSWrainfall/\"\n",
    "response = requests.request(\"GET\", url, headers=headers)\n",
    "data = json.loads(response.text)  \n",
    "files = data[\"files\"]     "
   ]
  },
  {
   "cell_type": "markdown",
   "metadata": {},
   "source": [
    "## 3.2 Extract Zip File"
   ]
  },
  {
   "cell_type": "code",
   "execution_count": 6,
   "metadata": {},
   "outputs": [
    {
     "name": "stdout",
     "output_type": "stream",
     "text": [
      "CPU times: user 4.24 s, sys: 5.4 s, total: 9.64 s\n",
      "Wall time: 2min 6s\n"
     ]
    }
   ],
   "source": [
    "%%time\n",
    "# create zip file\n",
    "files_to_dl = [\"data.zip\"]\n",
    "for file in files:\n",
    "    if file[\"name\"] in files_to_dl:\n",
    "        os.makedirs(output_directory, exist_ok=True)\n",
    "        urlretrieve(file[\"download_url\"], output_directory + file[\"name\"])"
   ]
  },
  {
   "cell_type": "code",
   "execution_count": 7,
   "metadata": {},
   "outputs": [
    {
     "name": "stdout",
     "output_type": "stream",
     "text": [
      "CPU times: user 17.2 s, sys: 5.86 s, total: 23 s\n",
      "Wall time: 32 s\n"
     ]
    }
   ],
   "source": [
    "%%time\n",
    "# extract data into directory\n",
    "with zipfile.ZipFile(os.path.join(output_directory, \"data.zip\"), 'r') as f:\n",
    "    f.extractall(output_directory)"
   ]
  },
  {
   "attachments": {},
   "cell_type": "markdown",
   "metadata": {},
   "source": [
    "# 4. Combine CSV"
   ]
  },
  {
   "cell_type": "code",
   "execution_count": 3,
   "metadata": {},
   "outputs": [
    {
     "name": "stdout",
     "output_type": "stream",
     "text": [
      "CPU times: user 1min, sys: 12.2 s, total: 1min 12s\n",
      "Wall time: 1min 21s\n"
     ]
    }
   ],
   "source": [
    "%%time\n",
    "\n",
    "if os.path.exists(\"NSWrainfall/combined_data.csv\"):\n",
    "  df = pd.read_csv(\"NSWrainfall/combined_data.csv\")\n",
    "  \n",
    "else:\n",
    "  excluded_files = [\"NSWrainfall\\\\observed_daily_rainfall_SYD.csv\"]\n",
    "  files = glob.glob('NSWrainfall/*.csv')\n",
    "  files = list(set(files) - set(excluded_files))\n",
    "  df = pd.concat((pd.read_csv(file, index_col=0)\n",
    "                  .assign(model=re.findall(\"/([^_]*)\", file)[0])  \n",
    "                  for file in files)\n",
    "                )\n",
    "  df.to_csv(\"NSWrainfall/combined_data.csv\")"
   ]
  },
  {
   "attachments": {},
   "cell_type": "markdown",
   "metadata": {},
   "source": [
    "| Team Member | Operating System | RAM | Processor | Is SSD | Time Taken |\n",
    "| --- | --- | --- | --- | --- | --- |\n",
    "| Austin Shih | MacOS | 64GB | Intel i9 2.4 GHz 8-Core | Yes | 6m 20s |\n",
    "| Renee Kwon | MacOS | 8GB | Dual-Core Intel Core i5 | Yes | 12min 27s |\n",
    "| Wilfred Hass | Ubuntu 22.04 | 16GB | Intel i7-7700HQ 2.8 GHz 4-core | Yes | 6m 44s |\n",
    "| Fujie Sun | WinOS | 16GB | AMD Ryzen 7 5800HS  | Yes | 8min 34s  |"
   ]
  },
  {
   "cell_type": "code",
   "execution_count": 3,
   "metadata": {},
   "outputs": [
    {
     "data": {
      "text/html": [
       "<div>\n",
       "<style scoped>\n",
       "    .dataframe tbody tr th:only-of-type {\n",
       "        vertical-align: middle;\n",
       "    }\n",
       "\n",
       "    .dataframe tbody tr th {\n",
       "        vertical-align: top;\n",
       "    }\n",
       "\n",
       "    .dataframe thead th {\n",
       "        text-align: right;\n",
       "    }\n",
       "</style>\n",
       "<table border=\"1\" class=\"dataframe\">\n",
       "  <thead>\n",
       "    <tr style=\"text-align: right;\">\n",
       "      <th></th>\n",
       "      <th>time</th>\n",
       "      <th>lat_min</th>\n",
       "      <th>lat_max</th>\n",
       "      <th>lon_min</th>\n",
       "      <th>lon_max</th>\n",
       "      <th>rain (mm/day)</th>\n",
       "      <th>model</th>\n",
       "    </tr>\n",
       "  </thead>\n",
       "  <tbody>\n",
       "    <tr>\n",
       "      <th>0</th>\n",
       "      <td>1889-01-01 12:00:00</td>\n",
       "      <td>-36.0</td>\n",
       "      <td>-35.0</td>\n",
       "      <td>141.25</td>\n",
       "      <td>142.5</td>\n",
       "      <td>1.387707e-05</td>\n",
       "      <td>GFDL-CM4</td>\n",
       "    </tr>\n",
       "    <tr>\n",
       "      <th>1</th>\n",
       "      <td>1889-01-02 12:00:00</td>\n",
       "      <td>-36.0</td>\n",
       "      <td>-35.0</td>\n",
       "      <td>141.25</td>\n",
       "      <td>142.5</td>\n",
       "      <td>2.036512e-05</td>\n",
       "      <td>GFDL-CM4</td>\n",
       "    </tr>\n",
       "    <tr>\n",
       "      <th>2</th>\n",
       "      <td>1889-01-03 12:00:00</td>\n",
       "      <td>-36.0</td>\n",
       "      <td>-35.0</td>\n",
       "      <td>141.25</td>\n",
       "      <td>142.5</td>\n",
       "      <td>1.801581e-10</td>\n",
       "      <td>GFDL-CM4</td>\n",
       "    </tr>\n",
       "    <tr>\n",
       "      <th>3</th>\n",
       "      <td>1889-01-04 12:00:00</td>\n",
       "      <td>-36.0</td>\n",
       "      <td>-35.0</td>\n",
       "      <td>141.25</td>\n",
       "      <td>142.5</td>\n",
       "      <td>1.192193e-03</td>\n",
       "      <td>GFDL-CM4</td>\n",
       "    </tr>\n",
       "    <tr>\n",
       "      <th>4</th>\n",
       "      <td>1889-01-05 12:00:00</td>\n",
       "      <td>-36.0</td>\n",
       "      <td>-35.0</td>\n",
       "      <td>141.25</td>\n",
       "      <td>142.5</td>\n",
       "      <td>4.229841e-04</td>\n",
       "      <td>GFDL-CM4</td>\n",
       "    </tr>\n",
       "  </tbody>\n",
       "</table>\n",
       "</div>"
      ],
      "text/plain": [
       "                  time  lat_min  lat_max  lon_min  lon_max  rain (mm/day)  \\\n",
       "0  1889-01-01 12:00:00    -36.0    -35.0   141.25    142.5   1.387707e-05   \n",
       "1  1889-01-02 12:00:00    -36.0    -35.0   141.25    142.5   2.036512e-05   \n",
       "2  1889-01-03 12:00:00    -36.0    -35.0   141.25    142.5   1.801581e-10   \n",
       "3  1889-01-04 12:00:00    -36.0    -35.0   141.25    142.5   1.192193e-03   \n",
       "4  1889-01-05 12:00:00    -36.0    -35.0   141.25    142.5   4.229841e-04   \n",
       "\n",
       "      model  \n",
       "0  GFDL-CM4  \n",
       "1  GFDL-CM4  \n",
       "2  GFDL-CM4  \n",
       "3  GFDL-CM4  \n",
       "4  GFDL-CM4  "
      ]
     },
     "execution_count": 3,
     "metadata": {},
     "output_type": "execute_result"
    }
   ],
   "source": [
    "df.head()"
   ]
  },
  {
   "attachments": {},
   "cell_type": "markdown",
   "metadata": {},
   "source": [
    "**Comparisons:**\n",
    "\n",
    "The time taken to combine the multiple csv files into one file varied for the members of our group depending on the specifications of our machines. Austin's MacOS machine with 64GB and an Intel i9 processor took the shortest time to merge the files. Wilfred's Ubuntu machine with 16GB RAM and an Intel i7 processor was just 24 seconds behind Austin, indicating that having a much higher RAM is not a significant component on the performance of merging a dataset of this size. As well, Fujie's Windows machine with the same 16GB took almost two minutes longer than Wilfred, further indicating that the processor of the machine or the operating system (or other factors not measured here) has a larger impact on the processing time of this task. Furthermore, Renee's MacOS computer with the older Intel i5 processor took the longest time, almost double the time of Austin's on the same OS but with an i9 processor. All members have SSD so we were not able to compare the results of SSD vs. HDD. "
   ]
  },
  {
   "attachments": {},
   "cell_type": "markdown",
   "metadata": {},
   "source": [
    "# 5. Simple EDA"
   ]
  },
  {
   "attachments": {},
   "cell_type": "markdown",
   "metadata": {},
   "source": [
    "| Team Member | Operating System | RAM | Processor | Is SSD | Time Taken to Naively Load CSV | Changing dtype | Loading only Certain Columns |\n",
    "| --- | --- | --- | --- | --- | --- | --- | --- |\n",
    "| Austin Shih | MacOS | 64GB | Intel i9 2.4 GHz 8-Core | Yes | --- | --- | --- |\n",
    "| Renee Kwon | MacOS | 8GB | Dual-Core Intel Core i5  | Yes | --- | --- | --- |\n",
    "| Wilfred Hass | Ubuntu 22.04 | 16GB | Intel i7-7700HQ 2.8 GHz 4-core | Yes | 1m 30s | 1m 27s | 50.6s |\n",
    "| Fujie Sun | WinOS | 16GB | AMD Ryzen 7 5800HS  | Yes | --- | --- | --- |"
   ]
  },
  {
   "attachments": {},
   "cell_type": "markdown",
   "metadata": {},
   "source": [
    "**Note** There will be memory issues if you run any two of the sections in one session. Please restart your kernel each time.\n",
    "\n",
    "Let's say we are interested in the mean `lat_min` and median `lon_min`, along with the distribution of rain over the entire dataset. To perform this EDA, we use the `describe()` function and use pandas' built-in histogram plotting.\n",
    "\n",
    "We find that loading the combined data with `dtype` that consume less memory only marginally speeds up the EDA (by about 21%). This also reduces our memory consumptions by a third with this dataset when going from `float64` to `float32`, trading precision for memory (3.50 GB to 2.25 GB). When loading only the three columns we actually use for the EDA, the amount of memory consumed is only 1.5 GB and the EDA takes 50.7s, which is much faster than  the other method or leaving it as is!"
   ]
  },
  {
   "cell_type": "code",
   "execution_count": 3,
   "metadata": {},
   "outputs": [
    {
     "name": "stdout",
     "output_type": "stream",
     "text": [
      "Requirement already satisfied: matplotlib in /home/wilfredhass/miniconda3/envs/525/lib/python3.10/site-packages (3.7.1)\n",
      "Requirement already satisfied: packaging>=20.0 in /home/wilfredhass/.local/lib/python3.10/site-packages (from matplotlib) (23.0)\n",
      "Requirement already satisfied: pyparsing>=2.3.1 in /home/wilfredhass/miniconda3/envs/525/lib/python3.10/site-packages (from matplotlib) (3.0.9)\n",
      "Requirement already satisfied: fonttools>=4.22.0 in /home/wilfredhass/miniconda3/envs/525/lib/python3.10/site-packages (from matplotlib) (4.39.3)\n",
      "Requirement already satisfied: contourpy>=1.0.1 in /home/wilfredhass/miniconda3/envs/525/lib/python3.10/site-packages (from matplotlib) (1.0.7)\n",
      "Requirement already satisfied: cycler>=0.10 in /home/wilfredhass/miniconda3/envs/525/lib/python3.10/site-packages (from matplotlib) (0.11.0)\n",
      "Requirement already satisfied: python-dateutil>=2.7 in /home/wilfredhass/miniconda3/envs/525/lib/python3.10/site-packages (from matplotlib) (2.8.2)\n",
      "Requirement already satisfied: pillow>=6.2.0 in /home/wilfredhass/miniconda3/envs/525/lib/python3.10/site-packages (from matplotlib) (9.4.0)\n",
      "Requirement already satisfied: numpy>=1.20 in /home/wilfredhass/miniconda3/envs/525/lib/python3.10/site-packages (from matplotlib) (1.24.2)\n",
      "Requirement already satisfied: kiwisolver>=1.0.1 in /home/wilfredhass/miniconda3/envs/525/lib/python3.10/site-packages (from matplotlib) (1.4.4)\n",
      "Requirement already satisfied: six>=1.5 in /home/wilfredhass/miniconda3/envs/525/lib/python3.10/site-packages (from python-dateutil>=2.7->matplotlib) (1.16.0)\n"
     ]
    }
   ],
   "source": [
    "# Install matplotlib if it isn't already installed\n",
    "\n",
    "# !pip install matplotlib"
   ]
  },
  {
   "attachments": {},
   "cell_type": "markdown",
   "metadata": {},
   "source": [
    "## 5.1 Control Time (No changes to loading the data)"
   ]
  },
  {
   "cell_type": "code",
   "execution_count": 2,
   "metadata": {},
   "outputs": [
    {
     "name": "stdout",
     "output_type": "stream",
     "text": [
      "Memory Usage 3500.776456 MB\n",
      "            lat_min       lat_max       lon_min       lon_max  rain (mm/day)\n",
      "count  5.924854e+07  6.246784e+07  5.924854e+07  6.246784e+07   5.929456e+07\n",
      "mean  -3.310482e+01 -3.197757e+01  1.469059e+02  1.482150e+02   1.901827e+00\n",
      "std    1.963549e+00  1.992067e+00  3.793784e+00  3.809994e+00   5.588275e+00\n",
      "min   -3.646739e+01 -3.600000e+01  1.406250e+02  1.412500e+02  -3.807373e-12\n",
      "25%   -3.486911e+01 -3.366221e+01  1.434375e+02  1.450000e+02   3.876672e-06\n",
      "50%   -3.300000e+01 -3.204188e+01  1.468750e+02  1.481250e+02   6.161705e-02\n",
      "75%   -3.140170e+01 -3.015707e+01  1.501875e+02  1.513125e+02   1.021314e+00\n",
      "max   -2.990000e+01 -2.790606e+01  1.537500e+02  1.556250e+02   4.329395e+02\n",
      "CPU times: user 1min 7s, sys: 15.2 s, total: 1min 22s\n",
      "Wall time: 1min 30s\n"
     ]
    },
    {
     "data": {
      "image/png": "[encoded data removed]",
      "text/plain": [
       "<Figure size 640x480 with 1 Axes>"
      ]
     },
     "metadata": {},
     "output_type": "display_data"
    }
   ],
   "source": [
    "%%time\n",
    "df = pd.read_csv(\"NSWrainfall/combined_data.csv\")\n",
    "print(\"Memory Usage\", df.memory_usage().sum() / 1e6 , \"MB\")\n",
    "print(df.describe())\n",
    "df[\"rain (mm/day)\"].hist(bins=100);"
   ]
  },
  {
   "attachments": {},
   "cell_type": "markdown",
   "metadata": {},
   "source": [
    "## 5.1 Changing dtype "
   ]
  },
  {
   "cell_type": "code",
   "execution_count": 3,
   "metadata": {},
   "outputs": [
    {
     "name": "stdout",
     "output_type": "stream",
     "text": [
      "Memory Usage 2250.499196 MB\n",
      "            lat_min       lat_max       lon_min       lon_max  rain (mm/day)\n",
      "count  5.924854e+07  6.246784e+07  5.924854e+07  6.246784e+07   5.929456e+07\n",
      "mean  -3.310527e+01 -3.197716e+01  1.469070e+02  1.482140e+02   1.901827e+00\n",
      "std    1.963549e+00  1.992067e+00  3.793784e+00  3.809994e+00   5.588274e+00\n",
      "min   -3.646739e+01 -3.600000e+01  1.406250e+02  1.412500e+02  -3.807373e-12\n",
      "25%   -3.486911e+01 -3.366221e+01  1.434375e+02  1.450000e+02   3.876672e-06\n",
      "50%   -3.300000e+01 -3.204189e+01  1.468750e+02  1.481250e+02   6.161705e-02\n",
      "75%   -3.140170e+01 -3.015707e+01  1.501875e+02  1.513125e+02   1.021314e+00\n",
      "max   -2.990000e+01 -2.790606e+01  1.537500e+02  1.556250e+02   4.329395e+02\n",
      "CPU times: user 1min 11s, sys: 10.7 s, total: 1min 22s\n",
      "Wall time: 1min 27s\n"
     ]
    },
    {
     "data": {
      "image/png": "[encoded data removed]",
      "text/plain": [
       "<Figure size 640x480 with 1 Axes>"
      ]
     },
     "metadata": {},
     "output_type": "display_data"
    }
   ],
   "source": [
    "%%time\n",
    "df_dtype = pd.read_csv(\"NSWrainfall/combined_data.csv\",\n",
    "                       dtype={'lat_min': np.float32,\n",
    "                              'lat_max': np.float32,\n",
    "                              'lon_min': np.float32,\n",
    "                              'lon_max': np.float32,\n",
    "                              'rain (mm/day)': np.float32,\n",
    "                              'model': str})\n",
    "print(\"Memory Usage\", df_dtype.memory_usage().sum() / 1e6 , \"MB\")\n",
    "print(df_dtype.describe())\n",
    "df_dtype[\"rain (mm/day)\"].hist(bins=100);"
   ]
  },
  {
   "attachments": {},
   "cell_type": "markdown",
   "metadata": {},
   "source": [
    "## 5.2 Load Only Columns Needed"
   ]
  },
  {
   "cell_type": "code",
   "execution_count": 2,
   "metadata": {},
   "outputs": [
    {
     "name": "stdout",
     "output_type": "stream",
     "text": [
      "Memory Usage 1500.33284 MB\n",
      "            lat_min       lon_min  rain (mm/day)\n",
      "count  5.924854e+07  5.924854e+07   5.929456e+07\n",
      "mean  -3.310482e+01  1.469059e+02   1.901827e+00\n",
      "std    1.963549e+00  3.793784e+00   5.588275e+00\n",
      "min   -3.646739e+01  1.406250e+02  -3.807373e-12\n",
      "25%   -3.486911e+01  1.434375e+02   3.876672e-06\n",
      "50%   -3.300000e+01  1.468750e+02   6.161705e-02\n",
      "75%   -3.140170e+01  1.501875e+02   1.021314e+00\n",
      "max   -2.990000e+01  1.537500e+02   4.329395e+02\n",
      "CPU times: user 40.9 s, sys: 6.6 s, total: 47.5 s\n",
      "Wall time: 50.6 s\n"
     ]
    },
    {
     "data": {
      "image/png": "[encoded data removed]",
      "text/plain": [
       "<Figure size 640x480 with 1 Axes>"
      ]
     },
     "metadata": {},
     "output_type": "display_data"
    }
   ],
   "source": [
    "%%time\n",
    "df_cols = pd.read_csv(\"NSWrainfall/combined_data.csv\",\n",
    "                      usecols=['lat_min', 'lon_min', \"rain (mm/day)\"])\n",
    "print(\"Memory Usage\", df_cols.memory_usage().sum() / 1e6 , \"MB\")\n",
    "print(df_cols.describe())\n",
    "df_cols[\"rain (mm/day)\"].hist(bins=100);"
   ]
  },
  {
   "cell_type": "code",
   "execution_count": null,
   "metadata": {},
   "outputs": [],
   "source": []
  }
 ],
 "metadata": {
  "kernelspec": {
   "display_name": "525_2023",
   "language": "python",
   "name": "python3"
  },
  "language_info": {
   "codemirror_mode": {
    "name": "ipython",
    "version": 3
   },
   "file_extension": ".py",
   "mimetype": "text/x-python",
   "name": "python",
   "nbconvert_exporter": "python",
   "pygments_lexer": "ipython3",
   "version": "3.10.10"
  },
  "orig_nbformat": 4
 },
 "nbformat": 4,
 "nbformat_minor": 2
}
