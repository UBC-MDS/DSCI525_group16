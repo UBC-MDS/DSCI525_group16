{
 "cells": [
  {
   "cell_type": "code",
   "execution_count": 2,
   "metadata": {},
   "outputs": [],
   "source": [
    "import re\n",
    "import os\n",
    "import glob\n",
    "import zipfile\n",
    "import requests\n",
    "from urllib.request import urlretrieve\n",
    "import json\n",
    "import pandas as pd"
   ]
  },
  {
   "attachments": {},
   "cell_type": "markdown",
   "metadata": {},
   "source": [
    "# 3. Download Data"
   ]
  },
  {
   "attachments": {},
   "cell_type": "markdown",
   "metadata": {},
   "source": [
    "### 3.1 Download with figshare API"
   ]
  },
  {
   "cell_type": "code",
   "execution_count": 7,
   "metadata": {},
   "outputs": [],
   "source": [
    "# Use API to download data\n",
    "article_id = \"14096681\"\n",
    "url = f\"https://api.figshare.com/v2/articles/{article_id}\"\n",
    "headers = {\"Content-Type\": \"application/json\"}\n",
    "output_directory = \"NSWrainfall/\"\n",
    "response = requests.request(\"GET\", url, headers=headers)\n",
    "data = json.loads(response.text)  \n",
    "files = data[\"files\"]     "
   ]
  },
  {
   "cell_type": "markdown",
   "metadata": {},
   "source": [
    "## 3.2 Extract Zip File"
   ]
  },
  {
   "cell_type": "code",
   "execution_count": 8,
   "metadata": {},
   "outputs": [
    {
     "name": "stdout",
     "output_type": "stream",
     "text": [
      "CPU times: user 3.49 s, sys: 5.62 s, total: 9.11 s\n",
      "Wall time: 5min 54s\n"
     ]
    }
   ],
   "source": [
    "%%time\n",
    "# create zip file\n",
    "files_to_dl = [\"data.zip\"]\n",
    "for file in files:\n",
    "    if file[\"name\"] in files_to_dl:\n",
    "        os.makedirs(output_directory, exist_ok=True)\n",
    "        urlretrieve(file[\"download_url\"], output_directory + file[\"name\"])"
   ]
  },
  {
   "cell_type": "code",
   "execution_count": 9,
   "metadata": {},
   "outputs": [
    {
     "name": "stdout",
     "output_type": "stream",
     "text": [
      "CPU times: user 11.8 s, sys: 2.11 s, total: 14 s\n",
      "Wall time: 14.3 s\n"
     ]
    }
   ],
   "source": [
    "%%time\n",
    "# extract data into directory\n",
    "with zipfile.ZipFile(os.path.join(output_directory, \"data.zip\"), 'r') as f:\n",
    "    f.extractall(output_directory)"
   ]
  },
  {
   "attachments": {},
   "cell_type": "markdown",
   "metadata": {},
   "source": [
    "# 4. Combine CSV"
   ]
  },
  {
   "cell_type": "code",
   "execution_count": 13,
   "metadata": {},
   "outputs": [
    {
     "name": "stdout",
     "output_type": "stream",
     "text": [
      "CPU times: user 5min 56s, sys: 20.2 s, total: 6min 16s\n",
      "Wall time: 6min 20s\n"
     ]
    }
   ],
   "source": [
    "%%time\n",
    "excluded_files = [\"NSWrainfall\\\\observed_daily_rainfall_SYD.csv\"]\n",
    "files = glob.glob('NSWrainfall/*.csv')\n",
    "files = list(set(files) - set(excluded_files))\n",
    "df = pd.concat((pd.read_csv(file, index_col=0)\n",
    "                .assign(model=re.findall(\"/([^_]*)\", file)[0])\n",
    "                for file in files)\n",
    "              )\n",
    "df.to_csv(\"NSWrainfall/combined_data.csv\")"
   ]
  },
  {
   "attachments": {},
   "cell_type": "markdown",
   "metadata": {},
   "source": [
    "| Team Member | Operating System | RAM | Processor | Is SSD | Time Taken |\n",
    "| --- | --- | --- | --- | --- | --- |\n",
    "| Austin Shih | MacOS | 64GB | Intel i9 2.4 GHz 8-Core | Yes | 6m 20s |\n",
    "| Renee Kwon | MacOS | 8GB | Dual-Core Intel Core i5 | Yes | 12min 27s |\n",
    "| Wilfred Hass | --- | --- | ---  | --- | --- |\n",
    "| Fujie Sun | WinOS | 16GB | AMD Ryzen 7 5800HS  | Yes | 8min 34s  |"
   ]
  },
  {
   "cell_type": "code",
   "execution_count": 17,
   "metadata": {},
   "outputs": [
    {
     "data": {
      "text/html": [
       "<div>\n",
       "<style scoped>\n",
       "    .dataframe tbody tr th:only-of-type {\n",
       "        vertical-align: middle;\n",
       "    }\n",
       "\n",
       "    .dataframe tbody tr th {\n",
       "        vertical-align: top;\n",
       "    }\n",
       "\n",
       "    .dataframe thead th {\n",
       "        text-align: right;\n",
       "    }\n",
       "</style>\n",
       "<table border=\"1\" class=\"dataframe\">\n",
       "  <thead>\n",
       "    <tr style=\"text-align: right;\">\n",
       "      <th></th>\n",
       "      <th>lat_min</th>\n",
       "      <th>lat_max</th>\n",
       "      <th>lon_min</th>\n",
       "      <th>lon_max</th>\n",
       "      <th>rain (mm/day)</th>\n",
       "      <th>model</th>\n",
       "    </tr>\n",
       "    <tr>\n",
       "      <th>time</th>\n",
       "      <th></th>\n",
       "      <th></th>\n",
       "      <th></th>\n",
       "      <th></th>\n",
       "      <th></th>\n",
       "      <th></th>\n",
       "    </tr>\n",
       "  </thead>\n",
       "  <tbody>\n",
       "    <tr>\n",
       "      <th>1889-01-01 12:00:00</th>\n",
       "      <td>-35.9</td>\n",
       "      <td>-35.1</td>\n",
       "      <td>141.475</td>\n",
       "      <td>142.275</td>\n",
       "      <td>6.454416e-19</td>\n",
       "      <td>FGOALS-f3-L</td>\n",
       "    </tr>\n",
       "    <tr>\n",
       "      <th>1889-01-02 12:00:00</th>\n",
       "      <td>-35.9</td>\n",
       "      <td>-35.1</td>\n",
       "      <td>141.475</td>\n",
       "      <td>142.275</td>\n",
       "      <td>1.459099e-08</td>\n",
       "      <td>FGOALS-f3-L</td>\n",
       "    </tr>\n",
       "    <tr>\n",
       "      <th>1889-01-03 12:00:00</th>\n",
       "      <td>-35.9</td>\n",
       "      <td>-35.1</td>\n",
       "      <td>141.475</td>\n",
       "      <td>142.275</td>\n",
       "      <td>7.752986e-04</td>\n",
       "      <td>FGOALS-f3-L</td>\n",
       "    </tr>\n",
       "    <tr>\n",
       "      <th>1889-01-04 12:00:00</th>\n",
       "      <td>-35.9</td>\n",
       "      <td>-35.1</td>\n",
       "      <td>141.475</td>\n",
       "      <td>142.275</td>\n",
       "      <td>3.762391e-01</td>\n",
       "      <td>FGOALS-f3-L</td>\n",
       "    </tr>\n",
       "    <tr>\n",
       "      <th>1889-01-05 12:00:00</th>\n",
       "      <td>-35.9</td>\n",
       "      <td>-35.1</td>\n",
       "      <td>141.475</td>\n",
       "      <td>142.275</td>\n",
       "      <td>9.123590e-13</td>\n",
       "      <td>FGOALS-f3-L</td>\n",
       "    </tr>\n",
       "  </tbody>\n",
       "</table>\n",
       "</div>"
      ],
      "text/plain": [
       "                     lat_min  lat_max  lon_min  lon_max  rain (mm/day)  \\\n",
       "time                                                                     \n",
       "1889-01-01 12:00:00    -35.9    -35.1  141.475  142.275   6.454416e-19   \n",
       "1889-01-02 12:00:00    -35.9    -35.1  141.475  142.275   1.459099e-08   \n",
       "1889-01-03 12:00:00    -35.9    -35.1  141.475  142.275   7.752986e-04   \n",
       "1889-01-04 12:00:00    -35.9    -35.1  141.475  142.275   3.762391e-01   \n",
       "1889-01-05 12:00:00    -35.9    -35.1  141.475  142.275   9.123590e-13   \n",
       "\n",
       "                           model  \n",
       "time                              \n",
       "1889-01-01 12:00:00  FGOALS-f3-L  \n",
       "1889-01-02 12:00:00  FGOALS-f3-L  \n",
       "1889-01-03 12:00:00  FGOALS-f3-L  \n",
       "1889-01-04 12:00:00  FGOALS-f3-L  \n",
       "1889-01-05 12:00:00  FGOALS-f3-L  "
      ]
     },
     "execution_count": 17,
     "metadata": {},
     "output_type": "execute_result"
    }
   ],
   "source": [
    "df.head()"
   ]
  },
  {
   "attachments": {},
   "cell_type": "markdown",
   "metadata": {},
   "source": [
    "# 5. Simple EDA"
   ]
  },
  {
   "attachments": {},
   "cell_type": "markdown",
   "metadata": {},
   "source": [
    "| Team Member | Operating System | RAM | Processor | Is SSD | Time Taken |\n",
    "| --- | --- | --- | --- | --- | --- |\n",
    "| Austin Shih | MacOS | 64GB | Intel i9 2.4 GHz 8-Core | Yes | --- |\n",
    "| Renee Kwon | MacOS | 8GB | Dual-Core Intel Core i5  | Yes | --- |\n",
    "| Wilfred Hass | --- | --- | ---  | --- | --- |\n",
    "| Fujie Sun | WinOS | 16GB | AMD Ryzen 7 5800HS  | Yes | --- |"
   ]
  },
  {
   "cell_type": "markdown",
   "metadata": {},
   "source": []
  }
 ],
 "metadata": {
  "kernelspec": {
   "display_name": "525_2023",
   "language": "python",
   "name": "python3"
  },
  "language_info": {
   "codemirror_mode": {
    "name": "ipython",
    "version": 3
   },
   "file_extension": ".py",
   "mimetype": "text/x-python",
   "name": "python",
   "nbconvert_exporter": "python",
   "pygments_lexer": "ipython3",
   "version": "3.10.10"
  },
  "orig_nbformat": 4
 },
 "nbformat": 4,
 "nbformat_minor": 2
}
