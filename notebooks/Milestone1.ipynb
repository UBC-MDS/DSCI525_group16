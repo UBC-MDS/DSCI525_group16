{
 "cells": [
  {
   "cell_type": "code",
   "execution_count": 1,
   "metadata": {},
   "outputs": [],
   "source": [
    "import re\n",
    "import os\n",
    "import glob\n",
    "import zipfile\n",
    "import requests\n",
    "from urllib.request import urlretrieve\n",
    "import json\n",
    "import pandas as pd\n",
    "import numpy as np"
   ]
  },
  {
   "cell_type": "markdown",
   "metadata": {},
   "source": [
    "# 3. Download Data"
   ]
  },
  {
   "cell_type": "markdown",
   "metadata": {},
   "source": [
    "### 3.1 Download with figshare API"
   ]
  },
  {
   "cell_type": "code",
   "execution_count": 2,
   "metadata": {},
   "outputs": [],
   "source": [
    "# Use API to download data\n",
    "article_id = \"14096681\"\n",
    "url = f\"https://api.figshare.com/v2/articles/{article_id}\"\n",
    "headers = {\"Content-Type\": \"application/json\"}\n",
    "output_directory = \"NSWrainfall/\"\n",
    "response = requests.request(\"GET\", url, headers=headers)\n",
    "data = json.loads(response.text)  \n",
    "files = data[\"files\"]     "
   ]
  },
  {
   "cell_type": "markdown",
   "metadata": {},
   "source": [
    "## 3.2 Extract Zip File"
   ]
  },
  {
   "cell_type": "code",
   "execution_count": 6,
   "metadata": {},
   "outputs": [
    {
     "name": "stdout",
     "output_type": "stream",
     "text": [
      "CPU times: user 4.24 s, sys: 5.4 s, total: 9.64 s\n",
      "Wall time: 2min 6s\n"
     ]
    }
   ],
   "source": [
    "%%time\n",
    "# create zip file\n",
    "files_to_dl = [\"data.zip\"]\n",
    "for file in files:\n",
    "    if file[\"name\"] in files_to_dl:\n",
    "        os.makedirs(output_directory, exist_ok=True)\n",
    "        urlretrieve(file[\"download_url\"], output_directory + file[\"name\"])"
   ]
  },
  {
   "cell_type": "code",
   "execution_count": 7,
   "metadata": {},
   "outputs": [
    {
     "name": "stdout",
     "output_type": "stream",
     "text": [
      "CPU times: user 17.2 s, sys: 5.86 s, total: 23 s\n",
      "Wall time: 32 s\n"
     ]
    }
   ],
   "source": [
    "%%time\n",
    "# extract data into directory\n",
    "with zipfile.ZipFile(os.path.join(output_directory, \"data.zip\"), 'r') as f:\n",
    "    f.extractall(output_directory)"
   ]
  },
  {
   "cell_type": "markdown",
   "metadata": {},
   "source": [
    "# 4. Combine CSV"
   ]
  },
  {
   "cell_type": "code",
   "execution_count": 2,
   "metadata": {},
   "outputs": [
    {
     "name": "stdout",
     "output_type": "stream",
     "text": [
      "CPU times: user 55.7 s, sys: 5.71 s, total: 1min 1s\n",
      "Wall time: 1min 1s\n"
     ]
    }
   ],
   "source": [
    "%%time\n",
    "\n",
    "if os.path.exists(\"NSWrainfall/combined_data.csv\"):\n",
    "  df = pd.read_csv(\"NSWrainfall/combined_data.csv\")\n",
    "  \n",
    "else:\n",
    "  excluded_files = [\"NSWrainfall\\\\observed_daily_rainfall_SYD.csv\"]\n",
    "  files = glob.glob('NSWrainfall/*.csv')\n",
    "  files = list(set(files) - set(excluded_files))\n",
    "  df = pd.concat((pd.read_csv(file, index_col=0)\n",
    "                  .assign(model=re.findall(\"/([^_]*)\", file)[0])  \n",
    "                  for file in files)\n",
    "                )\n",
    "  df.to_csv(\"NSWrainfall/combined_data.csv\")"
   ]
  },
  {
   "cell_type": "markdown",
   "metadata": {},
   "source": [
    "| Team Member | Operating System | RAM | Processor | Is SSD | Time Taken |\n",
    "| --- | --- | --- | --- | --- | --- |\n",
    "| Austin Shih | MacOS | 64GB | Intel i9 2.4 GHz 8-Core | Yes | 6m 20s |\n",
    "| Renee Kwon | MacOS | 8GB | Dual-Core Intel Core i5 | Yes | 12min 27s |\n",
    "| Wilfred Hass | Ubuntu 22.04 | 16GB | Intel i7-7700HQ 2.8 GHz 4-core | Yes | 6m 44s |\n",
    "| Fujie Sun | WinOS | 16GB | AMD Ryzen 7 5800HS  | Yes | 8min 34s  |"
   ]
  },
  {
   "cell_type": "code",
   "execution_count": 3,
   "metadata": {},
   "outputs": [
    {
     "data": {
      "text/html": [
       "<div>\n",
       "<style scoped>\n",
       "    .dataframe tbody tr th:only-of-type {\n",
       "        vertical-align: middle;\n",
       "    }\n",
       "\n",
       "    .dataframe tbody tr th {\n",
       "        vertical-align: top;\n",
       "    }\n",
       "\n",
       "    .dataframe thead th {\n",
       "        text-align: right;\n",
       "    }\n",
       "</style>\n",
       "<table border=\"1\" class=\"dataframe\">\n",
       "  <thead>\n",
       "    <tr style=\"text-align: right;\">\n",
       "      <th></th>\n",
       "      <th>time</th>\n",
       "      <th>lat_min</th>\n",
       "      <th>lat_max</th>\n",
       "      <th>lon_min</th>\n",
       "      <th>lon_max</th>\n",
       "      <th>rain (mm/day)</th>\n",
       "      <th>model</th>\n",
       "    </tr>\n",
       "  </thead>\n",
       "  <tbody>\n",
       "    <tr>\n",
       "      <th>0</th>\n",
       "      <td>1889-01-01 12:00:00</td>\n",
       "      <td>-35.9</td>\n",
       "      <td>-35.1</td>\n",
       "      <td>141.475</td>\n",
       "      <td>142.275</td>\n",
       "      <td>6.454416e-19</td>\n",
       "      <td>FGOALS-f3-L</td>\n",
       "    </tr>\n",
       "    <tr>\n",
       "      <th>1</th>\n",
       "      <td>1889-01-02 12:00:00</td>\n",
       "      <td>-35.9</td>\n",
       "      <td>-35.1</td>\n",
       "      <td>141.475</td>\n",
       "      <td>142.275</td>\n",
       "      <td>1.459099e-08</td>\n",
       "      <td>FGOALS-f3-L</td>\n",
       "    </tr>\n",
       "    <tr>\n",
       "      <th>2</th>\n",
       "      <td>1889-01-03 12:00:00</td>\n",
       "      <td>-35.9</td>\n",
       "      <td>-35.1</td>\n",
       "      <td>141.475</td>\n",
       "      <td>142.275</td>\n",
       "      <td>7.752986e-04</td>\n",
       "      <td>FGOALS-f3-L</td>\n",
       "    </tr>\n",
       "    <tr>\n",
       "      <th>3</th>\n",
       "      <td>1889-01-04 12:00:00</td>\n",
       "      <td>-35.9</td>\n",
       "      <td>-35.1</td>\n",
       "      <td>141.475</td>\n",
       "      <td>142.275</td>\n",
       "      <td>3.762391e-01</td>\n",
       "      <td>FGOALS-f3-L</td>\n",
       "    </tr>\n",
       "    <tr>\n",
       "      <th>4</th>\n",
       "      <td>1889-01-05 12:00:00</td>\n",
       "      <td>-35.9</td>\n",
       "      <td>-35.1</td>\n",
       "      <td>141.475</td>\n",
       "      <td>142.275</td>\n",
       "      <td>9.123590e-13</td>\n",
       "      <td>FGOALS-f3-L</td>\n",
       "    </tr>\n",
       "  </tbody>\n",
       "</table>\n",
       "</div>"
      ],
      "text/plain": [
       "                  time  lat_min  lat_max  lon_min  lon_max  rain (mm/day)  \\\n",
       "0  1889-01-01 12:00:00    -35.9    -35.1  141.475  142.275   6.454416e-19   \n",
       "1  1889-01-02 12:00:00    -35.9    -35.1  141.475  142.275   1.459099e-08   \n",
       "2  1889-01-03 12:00:00    -35.9    -35.1  141.475  142.275   7.752986e-04   \n",
       "3  1889-01-04 12:00:00    -35.9    -35.1  141.475  142.275   3.762391e-01   \n",
       "4  1889-01-05 12:00:00    -35.9    -35.1  141.475  142.275   9.123590e-13   \n",
       "\n",
       "         model  \n",
       "0  FGOALS-f3-L  \n",
       "1  FGOALS-f3-L  \n",
       "2  FGOALS-f3-L  \n",
       "3  FGOALS-f3-L  \n",
       "4  FGOALS-f3-L  "
      ]
     },
     "execution_count": 3,
     "metadata": {},
     "output_type": "execute_result"
    }
   ],
   "source": [
    "df.head()"
   ]
  },
  {
   "cell_type": "markdown",
   "metadata": {},
   "source": [
    "**Comparisons:**\n",
    "\n",
    "The time taken to combine the multiple csv files into one file varied for the members of our group depending on the specifications of our machines. Austin's MacOS machine with 64GB and an Intel i9 processor took the shortest time to merge the files. Wilfred's Ubuntu machine with 16GB RAM and an Intel i7 processor was just 24 seconds behind Austin, indicating that having a much higher RAM is not a significant component on the performance of merging a dataset of this size. As well, Fujie's Windows machine with the same 16GB took almost two minutes longer than Wilfred, further indicating that the processor of the machine or the operating system (or other factors not measured here) has a larger impact on the processing time of this task. Furthermore, Renee's MacOS computer with the older Intel i5 processor took the longest time, almost double the time of Austin's on the same OS but with an i9 processor. All members have SSD so we were not able to compare the results of SSD vs. HDD. "
   ]
  },
  {
   "cell_type": "markdown",
   "metadata": {},
   "source": [
    "# 5. Simple EDA"
   ]
  },
  {
   "cell_type": "markdown",
   "metadata": {},
   "source": [
    "| Team Member | Operating System | RAM | Processor | Is SSD | Time Taken to Naively Load CSV | Changing dtype | Loading only Certain Columns |\n",
    "| --- | --- | --- | --- | --- | --- | --- | --- |\n",
    "| Austin Shih | MacOS | 64GB | Intel i9 2.4 GHz 8-Core | Yes | 1m 17s | 1m 9s | 47s |\n",
    "| Renee Kwon | MacOS | 8GB | Dual-Core Intel Core i5  | Yes | 3min 52s | 2min 34s | 1min 32s |\n",
    "| Wilfred Hass | Ubuntu 22.04 | 16GB | Intel i7-7700HQ 2.8 GHz 4-core | Yes | 1m 30s | 1m 27s | 50.6s |\n",
    "| Fujie Sun | WinOS | 16GB | AMD Ryzen 7 5800HS  | Yes | 2m 40s | 2m 29s | 1m 17s |"
   ]
  },
  {
   "attachments": {},
   "cell_type": "markdown",
   "metadata": {},
   "source": [
    "**Note** There will be memory issues if you run any two of the sections in one session. Please restart your kernel each time.\n",
    "\n",
    "Let's say we are interested in the mean `lat_min` and median `lon_min`, along with the distribution of rain over the entire dataset. To perform this EDA, we use the `describe()` function and use pandas' built-in histogram plotting.\n",
    "\n",
    "We find that loading the combined data with `dtype` that consume less memory only marginally speeds up the EDA (by about 21%). This also reduces our memory consumptions by a third with this dataset when going from `float64` to `float32`, trading precision for memory (3.50 GB to 2.25 GB). When loading only the three columns we actually use for the EDA, the amount of memory consumed is only 1.5 GB and the EDA takes 50.7s, which is much faster than  the other method or leaving it as is!\n",
    "\n",
    "In terms of the differences between machines, we see that having significantly more RAM (Austin's 64 GB) likely doesn't have a great effect the times for loading and performing the python EDA, however he did not have to restart the kernel each time he ran one of the EDA cells (i.e. he could load many of the large datasets into memory). We do see that the different processors have varying performance speeds: Renee's i5 processor was the slowest in all loading types, Fujie's AMD processor with Windows OS took slightly less time (a minute less for Naively loading the CSV, but on par times for the other two methods). Then, Wilfred's i7 processor was a full minute faster to load and process the CSV naively and changing the dtype of the columns, with about a 30 second speed bump when loading only certain column. Wilfred's i7 had only diminished performance reduction compared to Austin's i9 (at most 20 seconds difference). Again, each member has an SSD so we were not able to test the comparison between SSD and HDD. Similarly, it was difficult to test the difference between Operating Systems as we all had pretty different hardware capabilities. "
   ]
  },
  {
   "cell_type": "code",
   "execution_count": 3,
   "metadata": {},
   "outputs": [
    {
     "name": "stdout",
     "output_type": "stream",
     "text": [
      "Requirement already satisfied: matplotlib in /home/wilfredhass/miniconda3/envs/525/lib/python3.10/site-packages (3.7.1)\n",
      "Requirement already satisfied: packaging>=20.0 in /home/wilfredhass/.local/lib/python3.10/site-packages (from matplotlib) (23.0)\n",
      "Requirement already satisfied: pyparsing>=2.3.1 in /home/wilfredhass/miniconda3/envs/525/lib/python3.10/site-packages (from matplotlib) (3.0.9)\n",
      "Requirement already satisfied: fonttools>=4.22.0 in /home/wilfredhass/miniconda3/envs/525/lib/python3.10/site-packages (from matplotlib) (4.39.3)\n",
      "Requirement already satisfied: contourpy>=1.0.1 in /home/wilfredhass/miniconda3/envs/525/lib/python3.10/site-packages (from matplotlib) (1.0.7)\n",
      "Requirement already satisfied: cycler>=0.10 in /home/wilfredhass/miniconda3/envs/525/lib/python3.10/site-packages (from matplotlib) (0.11.0)\n",
      "Requirement already satisfied: python-dateutil>=2.7 in /home/wilfredhass/miniconda3/envs/525/lib/python3.10/site-packages (from matplotlib) (2.8.2)\n",
      "Requirement already satisfied: pillow>=6.2.0 in /home/wilfredhass/miniconda3/envs/525/lib/python3.10/site-packages (from matplotlib) (9.4.0)\n",
      "Requirement already satisfied: numpy>=1.20 in /home/wilfredhass/miniconda3/envs/525/lib/python3.10/site-packages (from matplotlib) (1.24.2)\n",
      "Requirement already satisfied: kiwisolver>=1.0.1 in /home/wilfredhass/miniconda3/envs/525/lib/python3.10/site-packages (from matplotlib) (1.4.4)\n",
      "Requirement already satisfied: six>=1.5 in /home/wilfredhass/miniconda3/envs/525/lib/python3.10/site-packages (from python-dateutil>=2.7->matplotlib) (1.16.0)\n"
     ]
    }
   ],
   "source": [
    "# Install matplotlib if it isn't already installed\n",
    "\n",
    "# !pip install matplotlib"
   ]
  },
  {
   "cell_type": "markdown",
   "metadata": {},
   "source": [
    "## 5.1 Control Time (No changes to loading the data)"
   ]
  },
  {
   "cell_type": "code",
   "execution_count": 5,
   "metadata": {},
   "outputs": [
    {
     "name": "stdout",
     "output_type": "stream",
     "text": [
      "Memory Usage 3500.776456 MB\n",
      "            lat_min       lat_max       lon_min       lon_max  rain (mm/day)\n",
      "count  5.924854e+07  6.246784e+07  5.924854e+07  6.246784e+07   5.929456e+07\n",
      "mean  -3.310482e+01 -3.197757e+01  1.469059e+02  1.482150e+02   1.901827e+00\n",
      "std    1.963549e+00  1.992067e+00  3.793784e+00  3.809994e+00   5.588275e+00\n",
      "min   -3.646739e+01 -3.600000e+01  1.406250e+02  1.412500e+02  -3.807373e-12\n",
      "25%   -3.486911e+01 -3.366221e+01  1.434375e+02  1.450000e+02   3.876672e-06\n",
      "50%   -3.300000e+01 -3.204188e+01  1.468750e+02  1.481250e+02   6.161705e-02\n",
      "75%   -3.140170e+01 -3.015707e+01  1.501875e+02  1.513125e+02   1.021314e+00\n",
      "max   -2.990000e+01 -2.790606e+01  1.537500e+02  1.556250e+02   4.329395e+02\n",
      "CPU times: user 1min 8s, sys: 7.73 s, total: 1min 16s\n",
      "Wall time: 1min 17s\n"
     ]
    },
    {
     "data": {
      "image/png": "[encoded data removed]",
      "text/plain": [
       "<Figure size 640x480 with 1 Axes>"
      ]
     },
     "metadata": {},
     "output_type": "display_data"
    }
   ],
   "source": [
    "%%time\n",
    "df = pd.read_csv(\"NSWrainfall/combined_data.csv\")\n",
    "print(\"Memory Usage\", df.memory_usage().sum() / 1e6 , \"MB\")\n",
    "print(df.describe())\n",
    "df[\"rain (mm/day)\"].hist(bins=100);"
   ]
  },
  {
   "cell_type": "markdown",
   "metadata": {},
   "source": [
    "## 5.1 Changing dtype "
   ]
  },
  {
   "cell_type": "code",
   "execution_count": 6,
   "metadata": {},
   "outputs": [
    {
     "name": "stdout",
     "output_type": "stream",
     "text": [
      "Memory Usage 2250.499196 MB\n",
      "            lat_min       lat_max       lon_min       lon_max  rain (mm/day)\n",
      "count  5.924854e+07  6.246784e+07  5.924854e+07  6.246784e+07   5.929456e+07\n",
      "mean  -3.310491e+01 -3.197756e+01  1.469059e+02  1.482150e+02   1.901822e+00\n",
      "std    1.963549e+00  1.992067e+00  3.793784e+00  3.809994e+00   5.588274e+00\n",
      "min   -3.646739e+01 -3.600000e+01  1.406250e+02  1.412500e+02  -3.807373e-12\n",
      "25%   -3.486911e+01 -3.366221e+01  1.434375e+02  1.450000e+02   3.876672e-06\n",
      "50%   -3.300000e+01 -3.204189e+01  1.468750e+02  1.481250e+02   6.161705e-02\n",
      "75%   -3.140170e+01 -3.015707e+01  1.501875e+02  1.513125e+02   1.021314e+00\n",
      "max   -2.990000e+01 -2.790606e+01  1.537500e+02  1.556250e+02   4.329395e+02\n",
      "CPU times: user 1min 3s, sys: 6.57 s, total: 1min 9s\n",
      "Wall time: 1min 9s\n"
     ]
    },
    {
     "data": {
      "image/png": "[encoded data removed]",
      "text/plain": [
       "<Figure size 640x480 with 1 Axes>"
      ]
     },
     "metadata": {},
     "output_type": "display_data"
    }
   ],
   "source": [
    "%%time\n",
    "df_dtype = pd.read_csv(\"NSWrainfall/combined_data.csv\",\n",
    "                       dtype={'lat_min': np.float32,\n",
    "                              'lat_max': np.float32,\n",
    "                              'lon_min': np.float32,\n",
    "                              'lon_max': np.float32,\n",
    "                              'rain (mm/day)': np.float32,\n",
    "                              'model': str})\n",
    "print(\"Memory Usage\", df_dtype.memory_usage().sum() / 1e6 , \"MB\")\n",
    "print(df_dtype.describe())\n",
    "df_dtype[\"rain (mm/day)\"].hist(bins=100);"
   ]
  },
  {
   "cell_type": "markdown",
   "metadata": {},
   "source": [
    "## 5.2 Load Only Columns Needed"
   ]
  },
  {
   "cell_type": "code",
   "execution_count": 7,
   "metadata": {},
   "outputs": [
    {
     "name": "stdout",
     "output_type": "stream",
     "text": [
      "Memory Usage 1500.33284 MB\n",
      "            lat_min       lon_min  rain (mm/day)\n",
      "count  5.924854e+07  5.924854e+07   5.929456e+07\n",
      "mean  -3.310482e+01  1.469059e+02   1.901827e+00\n",
      "std    1.963549e+00  3.793784e+00   5.588275e+00\n",
      "min   -3.646739e+01  1.406250e+02  -3.807373e-12\n",
      "25%   -3.486911e+01  1.434375e+02   3.876672e-06\n",
      "50%   -3.300000e+01  1.468750e+02   6.161705e-02\n",
      "75%   -3.140170e+01  1.501875e+02   1.021314e+00\n",
      "max   -2.990000e+01  1.537500e+02   4.329395e+02\n",
      "CPU times: user 40.4 s, sys: 6.23 s, total: 46.7 s\n",
      "Wall time: 46.8 s\n"
     ]
    },
    {
     "data": {
      "image/png": "[encoded data removed]",
      "text/plain": [
       "<Figure size 640x480 with 1 Axes>"
      ]
     },
     "metadata": {},
     "output_type": "display_data"
    }
   ],
   "source": [
    "%%time\n",
    "df_cols = pd.read_csv(\"NSWrainfall/combined_data.csv\",\n",
    "                      usecols=['lat_min', 'lon_min', \"rain (mm/day)\"])\n",
    "print(\"Memory Usage\", df_cols.memory_usage().sum() / 1e6 , \"MB\")\n",
    "print(df_cols.describe())\n",
    "df_cols[\"rain (mm/day)\"].hist(bins=100);"
   ]
  },
  {
   "cell_type": "markdown",
   "metadata": {
    "tags": []
   },
   "source": [
    "### 6. Perform a simple EDA in R\n",
    "rubric={correctness:15,reasoning:10}\n",
    "\n",
    "1. Choose one of the methods listed below for transferring the dataframe (i.e., the entire dataset) from Python to R, and explain why you opted for this approach instead of the others.\n",
    "    - [Parquet file](https://pages.github.ubc.ca/MDS-2022-23/DSCI_525_web-cloud-comp_students/lectures/lecture2.html#converting-csv-parquet)\n",
    "    - [Pandas exchange](https://pages.github.ubc.ca/MDS-2022-23/DSCI_525_web-cloud-comp_students/lectures/lecture1.html#use-r-and-python-interchangeably)\n",
    "    - [Arrow exchange](https://pages.github.ubc.ca/MDS-2022-23/DSCI_525_web-cloud-comp_students/lectures/lecture2.html#use-r-and-python-interchangeably-with-arrow)\n",
    "2. Once you have the dataframe in R, perform a simple EDA."
   ]
  },
  {
   "attachments": {},
   "cell_type": "markdown",
   "metadata": {},
   "source": [
    "First we opted for the simplest `pandas exchange` method but the cell took longer than 45 minutes to run because of the serialization and deserialization process (as we saw in Lecture 1). This process was aborted as `pandas exchange` is not suitable for transferring dataset of this size. Alternatively, we tried the `arrow exchange` method which is still easy to use and much more efficient. This method supports zero-copy data sharing between different programming languages and is integrated with essential R libraries such as `Dplyr` and `Lubridate`. Below, we can see it took just over one minute to transfer the data using Arrow and then just a few seconds for each cell of the EDA. Although `Parquet` is another option, we did not use it das we did not find it necessary to convert our CSV files to Parquet files for this milestone."
   ]
  },
  {
   "cell_type": "code",
   "execution_count": 8,
   "metadata": {},
   "outputs": [
    {
     "name": "stdout",
     "output_type": "stream",
     "text": [
      "The rpy2.ipython extension is already loaded. To reload it, use:\n",
      "  %reload_ext rpy2.ipython\n"
     ]
    }
   ],
   "source": [
    "%load_ext rpy2.ipython"
   ]
  },
  {
   "cell_type": "code",
   "execution_count": 3,
   "metadata": {},
   "outputs": [],
   "source": [
    "#Using brute force - pandas exchange method\n",
    "%%R -i df\n",
    "df_r <- as.data.frame(df)"
   ]
  },
  {
   "cell_type": "code",
   "execution_count": 4,
   "metadata": {},
   "outputs": [
    {
     "name": "stdout",
     "output_type": "stream",
     "text": [
      "                 time   lat_min   lat_max lon_min lon_max rain (mm/day)\n",
      "0 1889-01-01 12:00:00 -35.81152 -34.86911 140.625 141.875  5.134920e-01\n",
      "1 1889-01-02 12:00:00 -35.81152 -34.86911 140.625 141.875  9.230450e-04\n",
      "2 1889-01-03 12:00:00 -35.81152 -34.86911 140.625 141.875  9.390591e-06\n",
      "3 1889-01-04 12:00:00 -35.81152 -34.86911 140.625 141.875  2.520761e-05\n",
      "4 1889-01-05 12:00:00 -35.81152 -34.86911 140.625 141.875  1.330720e-05\n",
      "5 1889-01-06 12:00:00 -35.81152 -34.86911 140.625 141.875  1.286928e-05\n",
      "       model\n",
      "0 NorESM2-MM\n",
      "1 NorESM2-MM\n",
      "2 NorESM2-MM\n",
      "3 NorESM2-MM\n",
      "4 NorESM2-MM\n",
      "5 NorESM2-MM\n"
     ]
    }
   ],
   "source": [
    "%%R\n",
    "head(df_r)"
   ]
  },
  {
   "cell_type": "code",
   "execution_count": 6,
   "metadata": {},
   "outputs": [
    {
     "data": {
      "image/png": "[encoded data removed]",
      "text/plain": [
       "<IPython.core.display.Image object>"
      ]
     },
     "metadata": {},
     "output_type": "display_data"
    }
   ],
   "source": [
    "%%R\n",
    "library(ggplot2)\n",
    "df_r$rain <- as.numeric(df_r$`rain (mm/day)`)\n",
    "df_r <- df_r[!is.na(df_r$rain),]\n",
    "\n",
    "ggplot(df_r, aes(x = rain)) +\n",
    "  geom_density(fill = \"steelblue\") +\n",
    "  labs(x = \"Rain (mm/day)\", y = \"Density\") +\n",
    "  theme_minimal()"
   ]
  },
  {
   "cell_type": "code",
   "execution_count": 4,
   "metadata": {},
   "outputs": [],
   "source": [
    "## Using the arrow method\n",
    "\n",
    "path = \"/Users/rk/github/DSCI525_group16/notebooks/NSWRainfall/combined_data.csv\"\n",
    "# !pip install rpy2_arrow\n",
    "import pyarrow.dataset as ds\n",
    "import pyarrow as pa\n",
    "import pyarrow \n",
    "from pyarrow import csv\n",
    "import rpy2_arrow.pyarrow_rarrow as pyra"
   ]
  },
  {
   "cell_type": "code",
   "execution_count": 6,
   "metadata": {},
   "outputs": [
    {
     "name": "stdout",
     "output_type": "stream",
     "text": [
      "CPU times: user 34.4 s, sys: 8.24 s, total: 42.6 s\n",
      "Wall time: 1min 7s\n"
     ]
    }
   ],
   "source": [
    "%%time\n",
    "csv_data = ds.dataset(path, format=\"csv\")\n",
    "# Converting the `pyarrow dataset` to a `pyarrowtable`\n",
    "table = csv_data.to_table()\n",
    "# Converting a `pyarrow table` to a `rarrow table`\n",
    "r_table = pyra.converter.py2rpy(table)"
   ]
  },
  {
   "cell_type": "code",
   "execution_count": 9,
   "metadata": {},
   "outputs": [
    {
     "name": "stdout",
     "output_type": "stream",
     "text": [
      "# A tibble: 28 × 2\n",
      "   model                  n\n",
      "   <chr>              <int>\n",
      " 1 BCC-CSM2-MR      3035340\n",
      " 2 GFDL-ESM4        3219300\n",
      " 3 NorESM2-MM       3541230\n",
      " 4 INM-CM4-8        1609650\n",
      " 5 EC-Earth3-Veg-LR 3037320\n",
      " 6 SAM0-UNICON      3541153\n",
      " 7 ACCESS-CM2       1932840\n",
      " 8 FGOALS-g3        1287720\n",
      " 9 CanESM5           551880\n",
      "10 CMCC-CM2-HR4     3541230\n",
      "# ℹ 18 more rows\n",
      "# ℹ Use `print(n = ...)` to see more rows\n",
      "CPU times: user 4.96 s, sys: 4.65 s, total: 9.61 s\n",
      "Wall time: 7.38 s\n"
     ]
    }
   ],
   "source": [
    "%%time\n",
    "\n",
    "%%R -i r_table\n",
    "suppressMessages(library(dplyr))\n",
    "output <- r_table %>% count(model) %>% collect()\n",
    "print(output)"
   ]
  },
  {
   "cell_type": "code",
   "execution_count": 10,
   "metadata": {},
   "outputs": [
    {
     "name": "stdout",
     "output_type": "stream",
     "text": [
      "Table\n",
      "62,513,863 rows x 7 columns\n",
      "$ time      <timestamp[s]> 1889-01-01 04:00:00, 1889-01-02 04:00:00, 1889-01-03 …\n",
      "$ lat_min         <double> -35.88765, -35.88765, -35.88765, -35.88765, -35.88765…\n",
      "$ lat_max         <double> -34.76616, -34.76616, -34.76616, -34.76616, -34.76616…\n",
      "$ lon_min         <double> 141.1875, 141.1875, 141.1875, 141.1875, 141.1875, 141…\n",
      "$ lon_max         <double> 142.3125, 142.3125, 142.3125, 142.3125, 142.3125, 142…\n",
      "$ `rain (mm/day)` <double> 4.265520e-17, 2.728501e-20, 5.221255e-24, 2.869350e-1…\n",
      "$ model           <string> \"BCC-CSM2-MR\", \"BCC-CSM2-MR\", \"BCC-CSM2-MR\", \"BCC-CSM…\n",
      "CPU times: user 51.5 ms, sys: 11.2 ms, total: 62.7 ms\n",
      "Wall time: 101 ms\n"
     ]
    }
   ],
   "source": [
    "%%time\n",
    "\n",
    "%%R -i r_table\n",
    "glimpse(r_table)"
   ]
  }
 ],
 "metadata": {
  "kernelspec": {
   "display_name": "525",
   "language": "python",
   "name": "python3"
  },
  "language_info": {
   "codemirror_mode": {
    "name": "ipython",
    "version": 3
   },
   "file_extension": ".py",
   "mimetype": "text/x-python",
   "name": "python",
   "nbconvert_exporter": "python",
   "pygments_lexer": "ipython3",
   "version": "3.10.10"
  }
 },
 "nbformat": 4,
 "nbformat_minor": 4
}
