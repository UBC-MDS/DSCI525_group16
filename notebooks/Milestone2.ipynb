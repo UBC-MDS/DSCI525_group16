{
 "cells": [
  {
   "cell_type": "markdown",
   "id": "b45a6877",
   "metadata": {},
   "source": [
    "# Milestone 2"
   ]
  },
  {
   "cell_type": "code",
   "execution_count": 30,
   "id": "56b6a6fd",
   "metadata": {},
   "outputs": [],
   "source": [
    "import re\n",
    "import os\n",
    "import glob\n",
    "import zipfile\n",
    "import requests\n",
    "from urllib.request import urlretrieve\n",
    "import json\n",
    "import pandas as pd\n",
    "import numpy as np\n",
    "import urllib.parse"
   ]
  },
  {
   "cell_type": "markdown",
   "id": "6c70f29c",
   "metadata": {},
   "source": [
    "## Step 1 - Setup EC2 Instance"
   ]
  },
  {
   "cell_type": "markdown",
   "id": "7c0369dc",
   "metadata": {},
   "source": [
    "https://github.com/UBC-MDS/DSCI525_group16/blob/main/img/step1.png"
   ]
  },
  {
   "cell_type": "markdown",
   "id": "82885081",
   "metadata": {},
   "source": [
    "## Step 2 - Setup Server"
   ]
  },
  {
   "cell_type": "markdown",
   "id": "1de414d0",
   "metadata": {},
   "source": [
    "https://github.com/UBC-MDS/DSCI525_group16/blob/main/img/step2.png"
   ]
  },
  {
   "cell_type": "markdown",
   "id": "140a5f63",
   "metadata": {},
   "source": [
    "## Step 3 - Setup JupyterHub"
   ]
  },
  {
   "cell_type": "markdown",
   "id": "eac1be57",
   "metadata": {},
   "source": [
    "https://github.com/UBC-MDS/DSCI525_group16/blob/main/img/step3.png"
   ]
  },
  {
   "cell_type": "markdown",
   "id": "c0cf1fd0",
   "metadata": {},
   "source": [
    "## Step 4 - Get Data"
   ]
  },
  {
   "cell_type": "code",
   "execution_count": 26,
   "id": "9f4f5607",
   "metadata": {},
   "outputs": [],
   "source": [
    "# Use API to download data\n",
    "article_id = 14226968 \n",
    "url = f\"https://api.figshare.com/v2/articles/{article_id}\"\n",
    "headers = {\"Content-Type\": \"application/json\"}\n",
    "output_directory = \"/srv/data/shared_data/\""
   ]
  },
  {
   "cell_type": "code",
   "execution_count": 27,
   "id": "121351cb",
   "metadata": {},
   "outputs": [
    {
     "data": {
      "text/plain": [
       "[{'id': 26844650,\n",
       "  'name': 'allyears.csv.zip',\n",
       "  'size': 2405908113,\n",
       "  'is_link_only': False,\n",
       "  'download_url': 'https://ndownloader.figshare.com/files/26844650',\n",
       "  'supplied_md5': '9e046ac05ecd2c32a256a47dd1098b81',\n",
       "  'computed_md5': '9e046ac05ecd2c32a256a47dd1098b81'},\n",
       " {'id': 26863682,\n",
       "  'name': 'individual_years.zip',\n",
       "  'size': 1896206676,\n",
       "  'is_link_only': False,\n",
       "  'download_url': 'https://ndownloader.figshare.com/files/26863682',\n",
       "  'supplied_md5': '921da748974b07b2a70bbfcc04535a77',\n",
       "  'computed_md5': '921da748974b07b2a70bbfcc04535a77'},\n",
       " {'id': 27515426,\n",
       "  'name': 'combined_model_data.csv.zip',\n",
       "  'size': 821308997,\n",
       "  'is_link_only': False,\n",
       "  'download_url': 'https://ndownloader.figshare.com/files/27515426',\n",
       "  'supplied_md5': '7638434c44a7d29cbb29fe200b4fd65d',\n",
       "  'computed_md5': '7638434c44a7d29cbb29fe200b4fd65d'},\n",
       " {'id': 27520682,\n",
       "  'name': 'combined_model_data_parti.parquet.zip',\n",
       "  'size': 519743915,\n",
       "  'is_link_only': False,\n",
       "  'download_url': 'https://ndownloader.figshare.com/files/27520682',\n",
       "  'supplied_md5': '02f4e3df8d16580a02291de225072689',\n",
       "  'computed_md5': '02f4e3df8d16580a02291de225072689'},\n",
       " {'id': 27520808,\n",
       "  'name': 'combined_model_data.parquet',\n",
       "  'size': 565872005,\n",
       "  'is_link_only': False,\n",
       "  'download_url': 'https://ndownloader.figshare.com/files/27520808',\n",
       "  'supplied_md5': 'ae63699ab21ffa8006559c6afbcd2271',\n",
       "  'computed_md5': 'ae63699ab21ffa8006559c6afbcd2271'}]"
      ]
     },
     "execution_count": 27,
     "metadata": {},
     "output_type": "execute_result"
    }
   ],
   "source": [
    "response = requests.request(\"GET\", url, headers=headers)\n",
    "data = json.loads(response.text)  \n",
    "files = data[\"files\"]             \n",
    "files"
   ]
  },
  {
   "cell_type": "code",
   "execution_count": 28,
   "id": "5fa02004",
   "metadata": {},
   "outputs": [],
   "source": [
    "files_to_dl = [\"combined_model_data_parti.parquet.zip\"]   \n",
    "for file in files:\n",
    "    if file[\"name\"] in files_to_dl:\n",
    "        os.makedirs(output_directory, exist_ok=True)\n",
    "        urlretrieve(file[\"download_url\"], output_directory + file[\"name\"])"
   ]
  },
  {
   "cell_type": "code",
   "execution_count": 29,
   "id": "910445c6",
   "metadata": {},
   "outputs": [],
   "source": [
    "with zipfile.ZipFile(os.path.join(output_directory, \"combined_model_data_parti.parquet.zip\"), 'r') as f:\n",
    "    f.extractall(output_directory)"
   ]
  },
  {
   "cell_type": "markdown",
   "id": "6f497ff4",
   "metadata": {},
   "source": [
    "## Step 5 - Setup S3 Bucket"
   ]
  },
  {
   "cell_type": "markdown",
   "id": "6d7def12",
   "metadata": {},
   "source": [
    "https://github.com/UBC-MDS/DSCI525_group16/blob/main/img/step5.png"
   ]
  },
  {
   "cell_type": "markdown",
   "id": "ee25254f",
   "metadata": {},
   "source": [
    "## Step 6 - Wrangle Data"
   ]
  },
  {
   "cell_type": "code",
   "execution_count": 5,
   "id": "593d4500",
   "metadata": {},
   "outputs": [],
   "source": [
    "import os\n",
    "import pandas as pd\n",
    "os.environ[\"AWS_SHARED_CREDENTIALS_FILE\"] = \"/srv/keys/credentials\""
   ]
  },
  {
   "cell_type": "code",
   "execution_count": 6,
   "id": "ee80f5f3",
   "metadata": {},
   "outputs": [
    {
     "ename": "NoCredentialsError",
     "evalue": "Unable to locate credentials",
     "output_type": "error",
     "traceback": [
      "\u001b[1;31m---------------------------------------------------------------------------\u001b[0m",
      "\u001b[1;31mNoCredentialsError\u001b[0m                        Traceback (most recent call last)",
      "File \u001b[1;32m<timed exec>:1\u001b[0m\n",
      "File \u001b[1;32mc:\\Users\\26907\\miniconda3\\envs\\525_2023\\lib\\site-packages\\pandas\\io\\parquet.py:493\u001b[0m, in \u001b[0;36mread_parquet\u001b[1;34m(path, engine, columns, storage_options, use_nullable_dtypes, **kwargs)\u001b[0m\n\u001b[0;32m    446\u001b[0m \u001b[39m\u001b[39m\u001b[39m\"\"\"\u001b[39;00m\n\u001b[0;32m    447\u001b[0m \u001b[39mLoad a parquet object from the file path, returning a DataFrame.\u001b[39;00m\n\u001b[0;32m    448\u001b[0m \n\u001b[1;32m   (...)\u001b[0m\n\u001b[0;32m    489\u001b[0m \u001b[39mDataFrame\u001b[39;00m\n\u001b[0;32m    490\u001b[0m \u001b[39m\"\"\"\u001b[39;00m\n\u001b[0;32m    491\u001b[0m impl \u001b[39m=\u001b[39m get_engine(engine)\n\u001b[1;32m--> 493\u001b[0m \u001b[39mreturn\u001b[39;00m impl\u001b[39m.\u001b[39mread(\n\u001b[0;32m    494\u001b[0m     path,\n\u001b[0;32m    495\u001b[0m     columns\u001b[39m=\u001b[39mcolumns,\n\u001b[0;32m    496\u001b[0m     storage_options\u001b[39m=\u001b[39mstorage_options,\n\u001b[0;32m    497\u001b[0m     use_nullable_dtypes\u001b[39m=\u001b[39muse_nullable_dtypes,\n\u001b[0;32m    498\u001b[0m     \u001b[39m*\u001b[39m\u001b[39m*\u001b[39mkwargs,\n\u001b[0;32m    499\u001b[0m )\n",
      "File \u001b[1;32mc:\\Users\\26907\\miniconda3\\envs\\525_2023\\lib\\site-packages\\pandas\\io\\parquet.py:240\u001b[0m, in \u001b[0;36mPyArrowImpl.read\u001b[1;34m(self, path, columns, use_nullable_dtypes, storage_options, **kwargs)\u001b[0m\n\u001b[0;32m    233\u001b[0m path_or_handle, handles, kwargs[\u001b[39m\"\u001b[39m\u001b[39mfilesystem\u001b[39m\u001b[39m\"\u001b[39m] \u001b[39m=\u001b[39m _get_path_or_handle(\n\u001b[0;32m    234\u001b[0m     path,\n\u001b[0;32m    235\u001b[0m     kwargs\u001b[39m.\u001b[39mpop(\u001b[39m\"\u001b[39m\u001b[39mfilesystem\u001b[39m\u001b[39m\"\u001b[39m, \u001b[39mNone\u001b[39;00m),\n\u001b[0;32m    236\u001b[0m     storage_options\u001b[39m=\u001b[39mstorage_options,\n\u001b[0;32m    237\u001b[0m     mode\u001b[39m=\u001b[39m\u001b[39m\"\u001b[39m\u001b[39mrb\u001b[39m\u001b[39m\"\u001b[39m,\n\u001b[0;32m    238\u001b[0m )\n\u001b[0;32m    239\u001b[0m \u001b[39mtry\u001b[39;00m:\n\u001b[1;32m--> 240\u001b[0m     result \u001b[39m=\u001b[39m \u001b[39mself\u001b[39m\u001b[39m.\u001b[39mapi\u001b[39m.\u001b[39mparquet\u001b[39m.\u001b[39mread_table(\n\u001b[0;32m    241\u001b[0m         path_or_handle, columns\u001b[39m=\u001b[39mcolumns, \u001b[39m*\u001b[39m\u001b[39m*\u001b[39mkwargs\n\u001b[0;32m    242\u001b[0m     )\u001b[39m.\u001b[39mto_pandas(\u001b[39m*\u001b[39m\u001b[39m*\u001b[39mto_pandas_kwargs)\n\u001b[0;32m    243\u001b[0m     \u001b[39mif\u001b[39;00m manager \u001b[39m==\u001b[39m \u001b[39m\"\u001b[39m\u001b[39marray\u001b[39m\u001b[39m\"\u001b[39m:\n\u001b[0;32m    244\u001b[0m         result \u001b[39m=\u001b[39m result\u001b[39m.\u001b[39m_as_manager(\u001b[39m\"\u001b[39m\u001b[39marray\u001b[39m\u001b[39m\"\u001b[39m, copy\u001b[39m=\u001b[39m\u001b[39mFalse\u001b[39;00m)\n",
      "File \u001b[1;32mc:\\Users\\26907\\miniconda3\\envs\\525_2023\\lib\\site-packages\\pyarrow\\parquet\\core.py:2824\u001b[0m, in \u001b[0;36mread_table\u001b[1;34m(source, columns, use_threads, metadata, schema, use_pandas_metadata, memory_map, read_dictionary, filesystem, filters, buffer_size, partitioning, use_legacy_dataset, ignore_prefixes, pre_buffer, coerce_int96_timestamp_unit, decryption_properties, thrift_string_size_limit, thrift_container_size_limit)\u001b[0m\n\u001b[0;32m   2817\u001b[0m     \u001b[39mraise\u001b[39;00m \u001b[39mValueError\u001b[39;00m(\n\u001b[0;32m   2818\u001b[0m         \u001b[39m\"\u001b[39m\u001b[39mThe \u001b[39m\u001b[39m'\u001b[39m\u001b[39mmetadata\u001b[39m\u001b[39m'\u001b[39m\u001b[39m keyword is no longer supported with the new \u001b[39m\u001b[39m\"\u001b[39m\n\u001b[0;32m   2819\u001b[0m         \u001b[39m\"\u001b[39m\u001b[39mdatasets-based implementation. Specify \u001b[39m\u001b[39m\"\u001b[39m\n\u001b[0;32m   2820\u001b[0m         \u001b[39m\"\u001b[39m\u001b[39m'\u001b[39m\u001b[39muse_legacy_dataset=True\u001b[39m\u001b[39m'\u001b[39m\u001b[39m to temporarily recover the old \u001b[39m\u001b[39m\"\u001b[39m\n\u001b[0;32m   2821\u001b[0m         \u001b[39m\"\u001b[39m\u001b[39mbehaviour.\u001b[39m\u001b[39m\"\u001b[39m\n\u001b[0;32m   2822\u001b[0m     )\n\u001b[0;32m   2823\u001b[0m \u001b[39mtry\u001b[39;00m:\n\u001b[1;32m-> 2824\u001b[0m     dataset \u001b[39m=\u001b[39m _ParquetDatasetV2(\n\u001b[0;32m   2825\u001b[0m         source,\n\u001b[0;32m   2826\u001b[0m         schema\u001b[39m=\u001b[39;49mschema,\n\u001b[0;32m   2827\u001b[0m         filesystem\u001b[39m=\u001b[39;49mfilesystem,\n\u001b[0;32m   2828\u001b[0m         partitioning\u001b[39m=\u001b[39;49mpartitioning,\n\u001b[0;32m   2829\u001b[0m         memory_map\u001b[39m=\u001b[39;49mmemory_map,\n\u001b[0;32m   2830\u001b[0m         read_dictionary\u001b[39m=\u001b[39;49mread_dictionary,\n\u001b[0;32m   2831\u001b[0m         buffer_size\u001b[39m=\u001b[39;49mbuffer_size,\n\u001b[0;32m   2832\u001b[0m         filters\u001b[39m=\u001b[39;49mfilters,\n\u001b[0;32m   2833\u001b[0m         ignore_prefixes\u001b[39m=\u001b[39;49mignore_prefixes,\n\u001b[0;32m   2834\u001b[0m         pre_buffer\u001b[39m=\u001b[39;49mpre_buffer,\n\u001b[0;32m   2835\u001b[0m         coerce_int96_timestamp_unit\u001b[39m=\u001b[39;49mcoerce_int96_timestamp_unit,\n\u001b[0;32m   2836\u001b[0m         thrift_string_size_limit\u001b[39m=\u001b[39;49mthrift_string_size_limit,\n\u001b[0;32m   2837\u001b[0m         thrift_container_size_limit\u001b[39m=\u001b[39;49mthrift_container_size_limit,\n\u001b[0;32m   2838\u001b[0m     )\n\u001b[0;32m   2839\u001b[0m \u001b[39mexcept\u001b[39;00m \u001b[39mImportError\u001b[39;00m:\n\u001b[0;32m   2840\u001b[0m     \u001b[39m# fall back on ParquetFile for simple cases when pyarrow.dataset\u001b[39;00m\n\u001b[0;32m   2841\u001b[0m     \u001b[39m# module is not available\u001b[39;00m\n\u001b[0;32m   2842\u001b[0m     \u001b[39mif\u001b[39;00m filters \u001b[39mis\u001b[39;00m \u001b[39mnot\u001b[39;00m \u001b[39mNone\u001b[39;00m:\n",
      "File \u001b[1;32mc:\\Users\\26907\\miniconda3\\envs\\525_2023\\lib\\site-packages\\pyarrow\\parquet\\core.py:2401\u001b[0m, in \u001b[0;36m_ParquetDatasetV2.__init__\u001b[1;34m(self, path_or_paths, filesystem, filters, partitioning, read_dictionary, buffer_size, memory_map, ignore_prefixes, pre_buffer, coerce_int96_timestamp_unit, schema, decryption_properties, thrift_string_size_limit, thrift_container_size_limit, **kwargs)\u001b[0m\n\u001b[0;32m   2399\u001b[0m         \u001b[39mexcept\u001b[39;00m \u001b[39mValueError\u001b[39;00m:\n\u001b[0;32m   2400\u001b[0m             filesystem \u001b[39m=\u001b[39m LocalFileSystem(use_mmap\u001b[39m=\u001b[39mmemory_map)\n\u001b[1;32m-> 2401\u001b[0m     \u001b[39mif\u001b[39;00m filesystem\u001b[39m.\u001b[39;49mget_file_info(path_or_paths)\u001b[39m.\u001b[39mis_file:\n\u001b[0;32m   2402\u001b[0m         single_file \u001b[39m=\u001b[39m path_or_paths\n\u001b[0;32m   2403\u001b[0m \u001b[39melse\u001b[39;00m:\n",
      "File \u001b[1;32mc:\\Users\\26907\\miniconda3\\envs\\525_2023\\lib\\site-packages\\pyarrow\\_fs.pyx:571\u001b[0m, in \u001b[0;36mpyarrow._fs.FileSystem.get_file_info\u001b[1;34m()\u001b[0m\n",
      "File \u001b[1;32mc:\\Users\\26907\\miniconda3\\envs\\525_2023\\lib\\site-packages\\pyarrow\\error.pxi:144\u001b[0m, in \u001b[0;36mpyarrow.lib.pyarrow_internal_check_status\u001b[1;34m()\u001b[0m\n",
      "File \u001b[1;32mc:\\Users\\26907\\miniconda3\\envs\\525_2023\\lib\\site-packages\\pyarrow\\_fs.pyx:1490\u001b[0m, in \u001b[0;36mpyarrow._fs._cb_get_file_info\u001b[1;34m()\u001b[0m\n",
      "File \u001b[1;32mc:\\Users\\26907\\miniconda3\\envs\\525_2023\\lib\\site-packages\\pyarrow\\fs.py:327\u001b[0m, in \u001b[0;36mFSSpecHandler.get_file_info\u001b[1;34m(self, paths)\u001b[0m\n\u001b[0;32m    325\u001b[0m \u001b[39mfor\u001b[39;00m path \u001b[39min\u001b[39;00m paths:\n\u001b[0;32m    326\u001b[0m     \u001b[39mtry\u001b[39;00m:\n\u001b[1;32m--> 327\u001b[0m         info \u001b[39m=\u001b[39m \u001b[39mself\u001b[39;49m\u001b[39m.\u001b[39;49mfs\u001b[39m.\u001b[39;49minfo(path)\n\u001b[0;32m    328\u001b[0m     \u001b[39mexcept\u001b[39;00m \u001b[39mFileNotFoundError\u001b[39;00m:\n\u001b[0;32m    329\u001b[0m         infos\u001b[39m.\u001b[39mappend(FileInfo(path, FileType\u001b[39m.\u001b[39mNotFound))\n",
      "File \u001b[1;32mc:\\Users\\26907\\miniconda3\\envs\\525_2023\\lib\\site-packages\\fsspec\\asyn.py:115\u001b[0m, in \u001b[0;36msync_wrapper.<locals>.wrapper\u001b[1;34m(*args, **kwargs)\u001b[0m\n\u001b[0;32m    112\u001b[0m \u001b[39m@functools\u001b[39m\u001b[39m.\u001b[39mwraps(func)\n\u001b[0;32m    113\u001b[0m \u001b[39mdef\u001b[39;00m \u001b[39mwrapper\u001b[39m(\u001b[39m*\u001b[39margs, \u001b[39m*\u001b[39m\u001b[39m*\u001b[39mkwargs):\n\u001b[0;32m    114\u001b[0m     \u001b[39mself\u001b[39m \u001b[39m=\u001b[39m obj \u001b[39mor\u001b[39;00m args[\u001b[39m0\u001b[39m]\n\u001b[1;32m--> 115\u001b[0m     \u001b[39mreturn\u001b[39;00m sync(\u001b[39mself\u001b[39m\u001b[39m.\u001b[39mloop, func, \u001b[39m*\u001b[39margs, \u001b[39m*\u001b[39m\u001b[39m*\u001b[39mkwargs)\n",
      "File \u001b[1;32mc:\\Users\\26907\\miniconda3\\envs\\525_2023\\lib\\site-packages\\fsspec\\asyn.py:100\u001b[0m, in \u001b[0;36msync\u001b[1;34m(loop, func, timeout, *args, **kwargs)\u001b[0m\n\u001b[0;32m     98\u001b[0m     \u001b[39mraise\u001b[39;00m FSTimeoutError \u001b[39mfrom\u001b[39;00m \u001b[39mreturn_result\u001b[39;00m\n\u001b[0;32m     99\u001b[0m \u001b[39melif\u001b[39;00m \u001b[39misinstance\u001b[39m(return_result, \u001b[39mBaseException\u001b[39;00m):\n\u001b[1;32m--> 100\u001b[0m     \u001b[39mraise\u001b[39;00m return_result\n\u001b[0;32m    101\u001b[0m \u001b[39melse\u001b[39;00m:\n\u001b[0;32m    102\u001b[0m     \u001b[39mreturn\u001b[39;00m return_result\n",
      "File \u001b[1;32mc:\\Users\\26907\\miniconda3\\envs\\525_2023\\lib\\site-packages\\fsspec\\asyn.py:55\u001b[0m, in \u001b[0;36m_runner\u001b[1;34m(event, coro, result, timeout)\u001b[0m\n\u001b[0;32m     53\u001b[0m     coro \u001b[39m=\u001b[39m asyncio\u001b[39m.\u001b[39mwait_for(coro, timeout\u001b[39m=\u001b[39mtimeout)\n\u001b[0;32m     54\u001b[0m \u001b[39mtry\u001b[39;00m:\n\u001b[1;32m---> 55\u001b[0m     result[\u001b[39m0\u001b[39m] \u001b[39m=\u001b[39m \u001b[39mawait\u001b[39;00m coro\n\u001b[0;32m     56\u001b[0m \u001b[39mexcept\u001b[39;00m \u001b[39mException\u001b[39;00m \u001b[39mas\u001b[39;00m ex:\n\u001b[0;32m     57\u001b[0m     result[\u001b[39m0\u001b[39m] \u001b[39m=\u001b[39m ex\n",
      "File \u001b[1;32mc:\\Users\\26907\\miniconda3\\envs\\525_2023\\lib\\site-packages\\s3fs\\core.py:1247\u001b[0m, in \u001b[0;36mS3FileSystem._info\u001b[1;34m(self, path, bucket, key, refresh, version_id)\u001b[0m\n\u001b[0;32m   1245\u001b[0m \u001b[39mif\u001b[39;00m key:\n\u001b[0;32m   1246\u001b[0m     \u001b[39mtry\u001b[39;00m:\n\u001b[1;32m-> 1247\u001b[0m         out \u001b[39m=\u001b[39m \u001b[39mawait\u001b[39;00m \u001b[39mself\u001b[39m\u001b[39m.\u001b[39m_call_s3(\n\u001b[0;32m   1248\u001b[0m             \u001b[39m\"\u001b[39m\u001b[39mhead_object\u001b[39m\u001b[39m\"\u001b[39m,\n\u001b[0;32m   1249\u001b[0m             \u001b[39mself\u001b[39m\u001b[39m.\u001b[39mkwargs,\n\u001b[0;32m   1250\u001b[0m             Bucket\u001b[39m=\u001b[39mbucket,\n\u001b[0;32m   1251\u001b[0m             Key\u001b[39m=\u001b[39mkey,\n\u001b[0;32m   1252\u001b[0m             \u001b[39m*\u001b[39m\u001b[39m*\u001b[39mversion_id_kw(version_id),\n\u001b[0;32m   1253\u001b[0m             \u001b[39m*\u001b[39m\u001b[39m*\u001b[39m\u001b[39mself\u001b[39m\u001b[39m.\u001b[39mreq_kw,\n\u001b[0;32m   1254\u001b[0m         )\n\u001b[0;32m   1255\u001b[0m         \u001b[39mreturn\u001b[39;00m {\n\u001b[0;32m   1256\u001b[0m             \u001b[39m\"\u001b[39m\u001b[39mETag\u001b[39m\u001b[39m\"\u001b[39m: out\u001b[39m.\u001b[39mget(\u001b[39m\"\u001b[39m\u001b[39mETag\u001b[39m\u001b[39m\"\u001b[39m, \u001b[39m\"\u001b[39m\u001b[39m\"\u001b[39m),\n\u001b[0;32m   1257\u001b[0m             \u001b[39m\"\u001b[39m\u001b[39mLastModified\u001b[39m\u001b[39m\"\u001b[39m: out[\u001b[39m\"\u001b[39m\u001b[39mLastModified\u001b[39m\u001b[39m\"\u001b[39m],\n\u001b[1;32m   (...)\u001b[0m\n\u001b[0;32m   1263\u001b[0m             \u001b[39m\"\u001b[39m\u001b[39mContentType\u001b[39m\u001b[39m\"\u001b[39m: out\u001b[39m.\u001b[39mget(\u001b[39m\"\u001b[39m\u001b[39mContentType\u001b[39m\u001b[39m\"\u001b[39m),\n\u001b[0;32m   1264\u001b[0m         }\n\u001b[0;32m   1265\u001b[0m     \u001b[39mexcept\u001b[39;00m \u001b[39mFileNotFoundError\u001b[39;00m:\n",
      "File \u001b[1;32mc:\\Users\\26907\\miniconda3\\envs\\525_2023\\lib\\site-packages\\s3fs\\core.py:347\u001b[0m, in \u001b[0;36mS3FileSystem._call_s3\u001b[1;34m(self, method, *akwarglist, **kwargs)\u001b[0m\n\u001b[0;32m    345\u001b[0m logger\u001b[39m.\u001b[39mdebug(\u001b[39m\"\u001b[39m\u001b[39mCALL: \u001b[39m\u001b[39m%s\u001b[39;00m\u001b[39m - \u001b[39m\u001b[39m%s\u001b[39;00m\u001b[39m - \u001b[39m\u001b[39m%s\u001b[39;00m\u001b[39m\"\u001b[39m, method\u001b[39m.\u001b[39m\u001b[39m__name__\u001b[39m, akwarglist, kw2)\n\u001b[0;32m    346\u001b[0m additional_kwargs \u001b[39m=\u001b[39m \u001b[39mself\u001b[39m\u001b[39m.\u001b[39m_get_s3_method_kwargs(method, \u001b[39m*\u001b[39makwarglist, \u001b[39m*\u001b[39m\u001b[39m*\u001b[39mkwargs)\n\u001b[1;32m--> 347\u001b[0m \u001b[39mreturn\u001b[39;00m \u001b[39mawait\u001b[39;00m _error_wrapper(\n\u001b[0;32m    348\u001b[0m     method, kwargs\u001b[39m=\u001b[39madditional_kwargs, retries\u001b[39m=\u001b[39m\u001b[39mself\u001b[39m\u001b[39m.\u001b[39mretries\n\u001b[0;32m    349\u001b[0m )\n",
      "File \u001b[1;32mc:\\Users\\26907\\miniconda3\\envs\\525_2023\\lib\\site-packages\\s3fs\\core.py:139\u001b[0m, in \u001b[0;36m_error_wrapper\u001b[1;34m(func, args, kwargs, retries)\u001b[0m\n\u001b[0;32m    137\u001b[0m         err \u001b[39m=\u001b[39m e\n\u001b[0;32m    138\u001b[0m err \u001b[39m=\u001b[39m translate_boto_error(err)\n\u001b[1;32m--> 139\u001b[0m \u001b[39mraise\u001b[39;00m err\n",
      "File \u001b[1;32mc:\\Users\\26907\\miniconda3\\envs\\525_2023\\lib\\site-packages\\s3fs\\core.py:112\u001b[0m, in \u001b[0;36m_error_wrapper\u001b[1;34m(func, args, kwargs, retries)\u001b[0m\n\u001b[0;32m    110\u001b[0m \u001b[39mfor\u001b[39;00m i \u001b[39min\u001b[39;00m \u001b[39mrange\u001b[39m(retries):\n\u001b[0;32m    111\u001b[0m     \u001b[39mtry\u001b[39;00m:\n\u001b[1;32m--> 112\u001b[0m         \u001b[39mreturn\u001b[39;00m \u001b[39mawait\u001b[39;00m func(\u001b[39m*\u001b[39margs, \u001b[39m*\u001b[39m\u001b[39m*\u001b[39mkwargs)\n\u001b[0;32m    113\u001b[0m     \u001b[39mexcept\u001b[39;00m S3_RETRYABLE_ERRORS \u001b[39mas\u001b[39;00m e:\n\u001b[0;32m    114\u001b[0m         err \u001b[39m=\u001b[39m e\n",
      "File \u001b[1;32mc:\\Users\\26907\\miniconda3\\envs\\525_2023\\lib\\site-packages\\aiobotocore\\client.py:341\u001b[0m, in \u001b[0;36mAioBaseClient._make_api_call\u001b[1;34m(self, operation_name, api_params)\u001b[0m\n\u001b[0;32m    339\u001b[0m \u001b[39melse\u001b[39;00m:\n\u001b[0;32m    340\u001b[0m     apply_request_checksum(request_dict)\n\u001b[1;32m--> 341\u001b[0m     http, parsed_response \u001b[39m=\u001b[39m \u001b[39mawait\u001b[39;00m \u001b[39mself\u001b[39m\u001b[39m.\u001b[39m_make_request(\n\u001b[0;32m    342\u001b[0m         operation_model, request_dict, request_context\n\u001b[0;32m    343\u001b[0m     )\n\u001b[0;32m    345\u001b[0m \u001b[39mawait\u001b[39;00m \u001b[39mself\u001b[39m\u001b[39m.\u001b[39mmeta\u001b[39m.\u001b[39mevents\u001b[39m.\u001b[39memit(\n\u001b[0;32m    346\u001b[0m     \u001b[39m'\u001b[39m\u001b[39mafter-call.\u001b[39m\u001b[39m{service_id}\u001b[39;00m\u001b[39m.\u001b[39m\u001b[39m{operation_name}\u001b[39;00m\u001b[39m'\u001b[39m\u001b[39m.\u001b[39mformat(\n\u001b[0;32m    347\u001b[0m         service_id\u001b[39m=\u001b[39mservice_id, operation_name\u001b[39m=\u001b[39moperation_name\n\u001b[1;32m   (...)\u001b[0m\n\u001b[0;32m    352\u001b[0m     context\u001b[39m=\u001b[39mrequest_context,\n\u001b[0;32m    353\u001b[0m )\n\u001b[0;32m    355\u001b[0m \u001b[39mif\u001b[39;00m http\u001b[39m.\u001b[39mstatus_code \u001b[39m>\u001b[39m\u001b[39m=\u001b[39m \u001b[39m300\u001b[39m:\n",
      "File \u001b[1;32mc:\\Users\\26907\\miniconda3\\envs\\525_2023\\lib\\site-packages\\aiobotocore\\client.py:366\u001b[0m, in \u001b[0;36mAioBaseClient._make_request\u001b[1;34m(self, operation_model, request_dict, request_context)\u001b[0m\n\u001b[0;32m    362\u001b[0m \u001b[39masync\u001b[39;00m \u001b[39mdef\u001b[39;00m \u001b[39m_make_request\u001b[39m(\n\u001b[0;32m    363\u001b[0m     \u001b[39mself\u001b[39m, operation_model, request_dict, request_context\n\u001b[0;32m    364\u001b[0m ):\n\u001b[0;32m    365\u001b[0m     \u001b[39mtry\u001b[39;00m:\n\u001b[1;32m--> 366\u001b[0m         \u001b[39mreturn\u001b[39;00m \u001b[39mawait\u001b[39;00m \u001b[39mself\u001b[39m\u001b[39m.\u001b[39m_endpoint\u001b[39m.\u001b[39mmake_request(\n\u001b[0;32m    367\u001b[0m             operation_model, request_dict\n\u001b[0;32m    368\u001b[0m         )\n\u001b[0;32m    369\u001b[0m     \u001b[39mexcept\u001b[39;00m \u001b[39mException\u001b[39;00m \u001b[39mas\u001b[39;00m e:\n\u001b[0;32m    370\u001b[0m         \u001b[39mawait\u001b[39;00m \u001b[39mself\u001b[39m\u001b[39m.\u001b[39mmeta\u001b[39m.\u001b[39mevents\u001b[39m.\u001b[39memit(\n\u001b[0;32m    371\u001b[0m             \u001b[39m'\u001b[39m\u001b[39mafter-call-error.\u001b[39m\u001b[39m{service_id}\u001b[39;00m\u001b[39m.\u001b[39m\u001b[39m{operation_name}\u001b[39;00m\u001b[39m'\u001b[39m\u001b[39m.\u001b[39mformat(\n\u001b[0;32m    372\u001b[0m                 service_id\u001b[39m=\u001b[39m\u001b[39mself\u001b[39m\u001b[39m.\u001b[39m_service_model\u001b[39m.\u001b[39mservice_id\u001b[39m.\u001b[39mhyphenize(),\n\u001b[1;32m   (...)\u001b[0m\n\u001b[0;32m    376\u001b[0m             context\u001b[39m=\u001b[39mrequest_context,\n\u001b[0;32m    377\u001b[0m         )\n",
      "File \u001b[1;32mc:\\Users\\26907\\miniconda3\\envs\\525_2023\\lib\\site-packages\\aiobotocore\\endpoint.py:96\u001b[0m, in \u001b[0;36mAioEndpoint._send_request\u001b[1;34m(self, request_dict, operation_model)\u001b[0m\n\u001b[0;32m     94\u001b[0m context \u001b[39m=\u001b[39m request_dict[\u001b[39m'\u001b[39m\u001b[39mcontext\u001b[39m\u001b[39m'\u001b[39m]\n\u001b[0;32m     95\u001b[0m \u001b[39mself\u001b[39m\u001b[39m.\u001b[39m_update_retries_context(context, attempts)\n\u001b[1;32m---> 96\u001b[0m request \u001b[39m=\u001b[39m \u001b[39mawait\u001b[39;00m \u001b[39mself\u001b[39m\u001b[39m.\u001b[39mcreate_request(request_dict, operation_model)\n\u001b[0;32m     97\u001b[0m success_response, exception \u001b[39m=\u001b[39m \u001b[39mawait\u001b[39;00m \u001b[39mself\u001b[39m\u001b[39m.\u001b[39m_get_response(\n\u001b[0;32m     98\u001b[0m     request, operation_model, context\n\u001b[0;32m     99\u001b[0m )\n\u001b[0;32m    100\u001b[0m \u001b[39mwhile\u001b[39;00m \u001b[39mawait\u001b[39;00m \u001b[39mself\u001b[39m\u001b[39m.\u001b[39m_needs_retry(\n\u001b[0;32m    101\u001b[0m     attempts,\n\u001b[0;32m    102\u001b[0m     operation_model,\n\u001b[1;32m   (...)\u001b[0m\n\u001b[0;32m    105\u001b[0m     exception,\n\u001b[0;32m    106\u001b[0m ):\n",
      "File \u001b[1;32mc:\\Users\\26907\\miniconda3\\envs\\525_2023\\lib\\site-packages\\aiobotocore\\endpoint.py:84\u001b[0m, in \u001b[0;36mAioEndpoint.create_request\u001b[1;34m(self, params, operation_model)\u001b[0m\n\u001b[0;32m     80\u001b[0m     service_id \u001b[39m=\u001b[39m operation_model\u001b[39m.\u001b[39mservice_model\u001b[39m.\u001b[39mservice_id\u001b[39m.\u001b[39mhyphenize()\n\u001b[0;32m     81\u001b[0m     event_name \u001b[39m=\u001b[39m \u001b[39m'\u001b[39m\u001b[39mrequest-created.\u001b[39m\u001b[39m{service_id}\u001b[39;00m\u001b[39m.\u001b[39m\u001b[39m{op_name}\u001b[39;00m\u001b[39m'\u001b[39m\u001b[39m.\u001b[39mformat(\n\u001b[0;32m     82\u001b[0m         service_id\u001b[39m=\u001b[39mservice_id, op_name\u001b[39m=\u001b[39moperation_model\u001b[39m.\u001b[39mname\n\u001b[0;32m     83\u001b[0m     )\n\u001b[1;32m---> 84\u001b[0m     \u001b[39mawait\u001b[39;00m \u001b[39mself\u001b[39m\u001b[39m.\u001b[39m_event_emitter\u001b[39m.\u001b[39memit(\n\u001b[0;32m     85\u001b[0m         event_name,\n\u001b[0;32m     86\u001b[0m         request\u001b[39m=\u001b[39mrequest,\n\u001b[0;32m     87\u001b[0m         operation_name\u001b[39m=\u001b[39moperation_model\u001b[39m.\u001b[39mname,\n\u001b[0;32m     88\u001b[0m     )\n\u001b[0;32m     89\u001b[0m prepared_request \u001b[39m=\u001b[39m \u001b[39mself\u001b[39m\u001b[39m.\u001b[39mprepare_request(request)\n\u001b[0;32m     90\u001b[0m \u001b[39mreturn\u001b[39;00m prepared_request\n",
      "File \u001b[1;32mc:\\Users\\26907\\miniconda3\\envs\\525_2023\\lib\\site-packages\\aiobotocore\\hooks.py:66\u001b[0m, in \u001b[0;36mAioHierarchicalEmitter._emit\u001b[1;34m(self, event_name, kwargs, stop_on_response)\u001b[0m\n\u001b[0;32m     63\u001b[0m logger\u001b[39m.\u001b[39mdebug(\u001b[39m'\u001b[39m\u001b[39mEvent \u001b[39m\u001b[39m%s\u001b[39;00m\u001b[39m: calling handler \u001b[39m\u001b[39m%s\u001b[39;00m\u001b[39m'\u001b[39m, event_name, handler)\n\u001b[0;32m     65\u001b[0m \u001b[39m# Await the handler if its a coroutine.\u001b[39;00m\n\u001b[1;32m---> 66\u001b[0m response \u001b[39m=\u001b[39m \u001b[39mawait\u001b[39;00m resolve_awaitable(handler(\u001b[39m*\u001b[39m\u001b[39m*\u001b[39mkwargs))\n\u001b[0;32m     67\u001b[0m responses\u001b[39m.\u001b[39mappend((handler, response))\n\u001b[0;32m     68\u001b[0m \u001b[39mif\u001b[39;00m stop_on_response \u001b[39mand\u001b[39;00m response \u001b[39mis\u001b[39;00m \u001b[39mnot\u001b[39;00m \u001b[39mNone\u001b[39;00m:\n",
      "File \u001b[1;32mc:\\Users\\26907\\miniconda3\\envs\\525_2023\\lib\\site-packages\\aiobotocore\\_helpers.py:15\u001b[0m, in \u001b[0;36mresolve_awaitable\u001b[1;34m(obj)\u001b[0m\n\u001b[0;32m     13\u001b[0m \u001b[39masync\u001b[39;00m \u001b[39mdef\u001b[39;00m \u001b[39mresolve_awaitable\u001b[39m(obj):\n\u001b[0;32m     14\u001b[0m     \u001b[39mif\u001b[39;00m inspect\u001b[39m.\u001b[39misawaitable(obj):\n\u001b[1;32m---> 15\u001b[0m         \u001b[39mreturn\u001b[39;00m \u001b[39mawait\u001b[39;00m obj\n\u001b[0;32m     17\u001b[0m     \u001b[39mreturn\u001b[39;00m obj\n",
      "File \u001b[1;32mc:\\Users\\26907\\miniconda3\\envs\\525_2023\\lib\\site-packages\\aiobotocore\\signers.py:23\u001b[0m, in \u001b[0;36mAioRequestSigner.handler\u001b[1;34m(self, operation_name, request, **kwargs)\u001b[0m\n\u001b[0;32m     18\u001b[0m \u001b[39masync\u001b[39;00m \u001b[39mdef\u001b[39;00m \u001b[39mhandler\u001b[39m(\u001b[39mself\u001b[39m, operation_name\u001b[39m=\u001b[39m\u001b[39mNone\u001b[39;00m, request\u001b[39m=\u001b[39m\u001b[39mNone\u001b[39;00m, \u001b[39m*\u001b[39m\u001b[39m*\u001b[39mkwargs):\n\u001b[0;32m     19\u001b[0m     \u001b[39m# This is typically hooked up to the \"request-created\" event\u001b[39;00m\n\u001b[0;32m     20\u001b[0m     \u001b[39m# from a client's event emitter.  When a new request is created\u001b[39;00m\n\u001b[0;32m     21\u001b[0m     \u001b[39m# this method is invoked to sign the request.\u001b[39;00m\n\u001b[0;32m     22\u001b[0m     \u001b[39m# Don't call this method directly.\u001b[39;00m\n\u001b[1;32m---> 23\u001b[0m     \u001b[39mreturn\u001b[39;00m \u001b[39mawait\u001b[39;00m \u001b[39mself\u001b[39m\u001b[39m.\u001b[39msign(operation_name, request)\n",
      "File \u001b[1;32mc:\\Users\\26907\\miniconda3\\envs\\525_2023\\lib\\site-packages\\aiobotocore\\signers.py:81\u001b[0m, in \u001b[0;36mAioRequestSigner.sign\u001b[1;34m(self, operation_name, request, region_name, signing_type, expires_in, signing_name)\u001b[0m\n\u001b[0;32m     78\u001b[0m     \u001b[39melse\u001b[39;00m:\n\u001b[0;32m     79\u001b[0m         \u001b[39mraise\u001b[39;00m e\n\u001b[1;32m---> 81\u001b[0m auth\u001b[39m.\u001b[39;49madd_auth(request)\n",
      "File \u001b[1;32mc:\\Users\\26907\\miniconda3\\envs\\525_2023\\lib\\site-packages\\botocore\\auth.py:407\u001b[0m, in \u001b[0;36mSigV4Auth.add_auth\u001b[1;34m(self, request)\u001b[0m\n\u001b[0;32m    405\u001b[0m \u001b[39mdef\u001b[39;00m \u001b[39madd_auth\u001b[39m(\u001b[39mself\u001b[39m, request):\n\u001b[0;32m    406\u001b[0m     \u001b[39mif\u001b[39;00m \u001b[39mself\u001b[39m\u001b[39m.\u001b[39mcredentials \u001b[39mis\u001b[39;00m \u001b[39mNone\u001b[39;00m:\n\u001b[1;32m--> 407\u001b[0m         \u001b[39mraise\u001b[39;00m NoCredentialsError()\n\u001b[0;32m    408\u001b[0m     datetime_now \u001b[39m=\u001b[39m datetime\u001b[39m.\u001b[39mdatetime\u001b[39m.\u001b[39mutcnow()\n\u001b[0;32m    409\u001b[0m     request\u001b[39m.\u001b[39mcontext[\u001b[39m'\u001b[39m\u001b[39mtimestamp\u001b[39m\u001b[39m'\u001b[39m] \u001b[39m=\u001b[39m datetime_now\u001b[39m.\u001b[39mstrftime(SIGV4_TIMESTAMP)\n",
      "\u001b[1;31mNoCredentialsError\u001b[0m: Unable to locate credentials"
     ]
    }
   ],
   "source": [
    "%%time\n",
    "df = pd.read_parquet(\"s3://mds-s3-16-austin/combined_model_data_parti.parquet\")\n",
    "df"
   ]
  },
  {
   "cell_type": "code",
   "execution_count": null,
   "id": "a25ecb16",
   "metadata": {},
   "outputs": [],
   "source": []
  }
 ],
 "metadata": {
  "kernelspec": {
   "display_name": "Python 3 (ipykernel)",
   "language": "python",
   "name": "python3"
  },
  "language_info": {
   "codemirror_mode": {
    "name": "ipython",
    "version": 3
   },
   "file_extension": ".py",
   "mimetype": "text/x-python",
   "name": "python",
   "nbconvert_exporter": "python",
   "pygments_lexer": "ipython3",
   "version": "3.10.10"
  }
 },
 "nbformat": 4,
 "nbformat_minor": 5
}
